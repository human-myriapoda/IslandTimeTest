{
 "cells": [
  {
   "cell_type": "code",
   "execution_count": 7,
   "metadata": {},
   "outputs": [],
   "source": [
    "import ee\n",
    "import numpy as np\n",
    "import matplotlib.pyplot as plt\n",
    "import pandas as pd\n",
    "import os\n",
    "from mpetools import get_info_islands\n",
    "import geemap\n",
    "\n",
    "try:\n",
    "    ee.Initialize()\n",
    "except Exception as e:\n",
    "    ee.Authenticate()\n",
    "    ee.Initialize()"
   ]
  },
  {
   "cell_type": "code",
   "execution_count": 41,
   "metadata": {},
   "outputs": [
    {
     "name": "stdout",
     "output_type": "stream",
     "text": [
      "\n",
      "-------------------------------------------------------------------\n",
      "RETRIEVING ISLAND INFORMATION\n",
      "Island: Banaba, Kiribati\n",
      "-------------------------------------------------------------------\n",
      "\n",
      "~ The following information is available: ~\n",
      "\n",
      "general_info\n",
      "               island\n",
      "               country\n",
      "spatial_reference\n",
      "               latitude\n",
      "               longitude\n",
      "               polygon\n",
      "image_collection_dict\n",
      "               description\n",
      "               S2\n",
      "               L7\n",
      "               L8\n",
      "               L9\n"
     ]
    }
   ],
   "source": [
    "island = 'Banaba'\n",
    "country = 'Kiribati'\n",
    "island_info = get_info_islands.retrieve_info_island(island, country)"
   ]
  },
  {
   "cell_type": "code",
   "execution_count": 42,
   "metadata": {},
   "outputs": [],
   "source": [
    "aoi = island_info['spatial_reference']['polygon']\n",
    "\n",
    "# Filter the Sentinel-1 collection\n",
    "sentinel1_collection = (ee.ImageCollection('COPERNICUS/S1_GRD')\n",
    "                        .filterBounds(aoi)\n",
    "                        .filter(ee.Filter.listContains('transmitterReceiverPolarisation', 'VV'))\n",
    "                        .filter(ee.Filter.listContains('transmitterReceiverPolarisation', 'VH'))\n",
    "                        .select(['VV', 'VH'])\n",
    "                        .map(lambda image: image.clip(aoi)))\n",
    "\n",
    "# Get the first image from the collection\n",
    "sentinel1_image = sentinel1_collection.first()"
   ]
  },
  {
   "cell_type": "code",
   "execution_count": 43,
   "metadata": {},
   "outputs": [
    {
     "ename": "TypeError",
     "evalue": "'NoneType' object is not subscriptable",
     "output_type": "error",
     "traceback": [
      "\u001b[1;31m---------------------------------------------------------------------------\u001b[0m",
      "\u001b[1;31mTypeError\u001b[0m                                 Traceback (most recent call last)",
      "Cell \u001b[1;32mIn[43], line 1\u001b[0m\n\u001b[1;32m----> 1\u001b[0m ee\u001b[39m.\u001b[39mDate(sentinel1_image\u001b[39m.\u001b[39;49mgetInfo()[\u001b[39m'\u001b[39;49m\u001b[39mproperties\u001b[39;49m\u001b[39m'\u001b[39;49m][\u001b[39m'\u001b[39m\u001b[39msystem:time_start\u001b[39m\u001b[39m'\u001b[39m])\u001b[39m.\u001b[39mformat(\u001b[39m'\u001b[39m\u001b[39mYYYY-MM-dd\u001b[39m\u001b[39m'\u001b[39m)\u001b[39m.\u001b[39mgetInfo()\n",
      "\u001b[1;31mTypeError\u001b[0m: 'NoneType' object is not subscriptable"
     ]
    }
   ],
   "source": [
    "ee.Date(sentinel1_image.getInfo()['properties']['system:time_start']).format('YYYY-MM-dd').getInfo()"
   ]
  },
  {
   "cell_type": "code",
   "execution_count": 33,
   "metadata": {},
   "outputs": [
    {
     "data": {
      "application/vnd.jupyter.widget-view+json": {
       "model_id": "623a2c9a075341f5a68a4159f68c719d",
       "version_major": 2,
       "version_minor": 0
      },
      "text/plain": [
       "Map(center=[0.6209706500000001, 73.46182384568081], controls=(WidgetControl(options=['position', 'transparent_…"
      ]
     },
     "metadata": {},
     "output_type": "display_data"
    }
   ],
   "source": [
    "m = geemap.Map(center=[island_info['spatial_reference']['latitude'], island_info['spatial_reference']['longitude']], zoom=12)\n",
    "m.addLayer(sentinel1_image, vis_params={'min': -25, 'max': 0})\n",
    "m"
   ]
  },
  {
   "cell_type": "code",
   "execution_count": 48,
   "metadata": {},
   "outputs": [
    {
     "data": {
      "application/vnd.jupyter.widget-view+json": {
       "model_id": "323824faf3a44178bfefcff05e67d926",
       "version_major": 2,
       "version_minor": 0
      },
      "text/plain": [
       "Map(center=[5.2013, 47.3277], controls=(WidgetControl(options=['position', 'transparent_bg'], widget=HBox(chil…"
      ]
     },
     "metadata": {},
     "output_type": "display_data"
    }
   ],
   "source": [
    "# Define the Sentinel-1 VV image collection\n",
    "imgVV = (ee.ImageCollection('COPERNICUS/S1_GRD')\n",
    "         .filter(ee.Filter.listContains('transmitterReceiverPolarisation', 'VV'))\n",
    "         .filter(ee.Filter.eq('instrumentMode', 'IW'))\n",
    "         .select('VV')\n",
    "         .map(lambda image: image.updateMask(image.lt(-30.0).Not())))\n",
    "\n",
    "# Filter the VV images by pass direction\n",
    "desc = imgVV.filter(ee.Filter.eq('orbitProperties_pass', 'DESCENDING'))\n",
    "asc = imgVV.filter(ee.Filter.eq('orbitProperties_pass', 'ASCENDING'))\n",
    "\n",
    "# Define the date ranges\n",
    "spring = ee.Filter.date('2022-03-01', '2022-04-20')\n",
    "lateSpring = ee.Filter.date('2022-04-21', '2022-06-10')\n",
    "summer = ee.Filter.date('2022-06-11', '2022-08-31')\n",
    "\n",
    "# Compute the multi-temporal means for DESCENDING pass\n",
    "descChange = (ee.Image.cat([\n",
    "    desc.filter(spring).mean(),\n",
    "    desc.filter(lateSpring).mean(),\n",
    "    desc.filter(summer).mean()\n",
    "]))\n",
    "\n",
    "# Compute the multi-temporal means for ASCENDING pass\n",
    "ascChange = (ee.Image.cat([\n",
    "    asc.filter(spring).mean(),\n",
    "    asc.filter(lateSpring).mean(),\n",
    "    asc.filter(summer).mean()\n",
    "]))\n",
    "\n",
    "Map = geemap.Map(center=[5.2013, 47.3277], zoom=12)\n",
    "# Add layers to the map\n",
    "Map.addLayer(ascChange, {'min': -25, 'max': 5}, 'Multi-T Mean ASC', True)\n",
    "Map.addLayer(descChange, {'min': -25, 'max': 5}, 'Multi-T Mean DESC', True)\n",
    "Map"
   ]
  }
 ],
 "metadata": {
  "kernelspec": {
   "display_name": "islands-db",
   "language": "python",
   "name": "python3"
  },
  "language_info": {
   "codemirror_mode": {
    "name": "ipython",
    "version": 3
   },
   "file_extension": ".py",
   "mimetype": "text/x-python",
   "name": "python",
   "nbconvert_exporter": "python",
   "pygments_lexer": "ipython3",
   "version": "3.10.10"
  },
  "orig_nbformat": 4
 },
 "nbformat": 4,
 "nbformat_minor": 2
}
