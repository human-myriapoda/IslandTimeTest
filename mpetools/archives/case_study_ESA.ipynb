{
 "cells": [
  {
   "cell_type": "code",
   "execution_count": 37,
   "metadata": {},
   "outputs": [
    {
     "ename": "ModuleNotFoundError",
     "evalue": "No module named 'statsmodels'",
     "output_type": "error",
     "traceback": [
      "\u001b[1;31m---------------------------------------------------------------------------\u001b[0m",
      "\u001b[1;31mModuleNotFoundError\u001b[0m                       Traceback (most recent call last)",
      "\u001b[1;32mc:\\Users\\myriampe\\OneDrive\\Documents\\PhD in Earth Science\\Projects\\Islands-CI\\case_study_ESA.ipynb Cell 1\u001b[0m in \u001b[0;36m<cell line: 5>\u001b[1;34m()\u001b[0m\n\u001b[0;32m      <a href='vscode-notebook-cell:/c%3A/Users/myriampe/OneDrive/Documents/PhD%20in%20Earth%20Science/Projects/Islands-CI/case_study_ESA.ipynb#W0sZmlsZQ%3D%3D?line=2'>3</a>\u001b[0m \u001b[39mimport\u001b[39;00m \u001b[39mpandas\u001b[39;00m \u001b[39mas\u001b[39;00m \u001b[39mpd\u001b[39;00m\n\u001b[0;32m      <a href='vscode-notebook-cell:/c%3A/Users/myriampe/OneDrive/Documents/PhD%20in%20Earth%20Science/Projects/Islands-CI/case_study_ESA.ipynb#W0sZmlsZQ%3D%3D?line=3'>4</a>\u001b[0m \u001b[39mimport\u001b[39;00m \u001b[39mnumpy\u001b[39;00m \u001b[39mas\u001b[39;00m \u001b[39mnp\u001b[39;00m\n\u001b[1;32m----> <a href='vscode-notebook-cell:/c%3A/Users/myriampe/OneDrive/Documents/PhD%20in%20Earth%20Science/Projects/Islands-CI/case_study_ESA.ipynb#W0sZmlsZQ%3D%3D?line=4'>5</a>\u001b[0m \u001b[39mfrom\u001b[39;00m \u001b[39mstatsmodels\u001b[39;00m\u001b[39m.\u001b[39;00m\u001b[39mtsa\u001b[39;00m\u001b[39m.\u001b[39;00m\u001b[39mstattools\u001b[39;00m \u001b[39mimport\u001b[39;00m adfuller\n\u001b[0;32m      <a href='vscode-notebook-cell:/c%3A/Users/myriampe/OneDrive/Documents/PhD%20in%20Earth%20Science/Projects/Islands-CI/case_study_ESA.ipynb#W0sZmlsZQ%3D%3D?line=6'>7</a>\u001b[0m get_ipython()\u001b[39m.\u001b[39mrun_line_magic(\u001b[39m'\u001b[39m\u001b[39mload_ext\u001b[39m\u001b[39m'\u001b[39m, \u001b[39m'\u001b[39m\u001b[39mautoreload\u001b[39m\u001b[39m'\u001b[39m)\n\u001b[0;32m      <a href='vscode-notebook-cell:/c%3A/Users/myriampe/OneDrive/Documents/PhD%20in%20Earth%20Science/Projects/Islands-CI/case_study_ESA.ipynb#W0sZmlsZQ%3D%3D?line=7'>8</a>\u001b[0m get_ipython()\u001b[39m.\u001b[39mrun_line_magic(\u001b[39m'\u001b[39m\u001b[39mautoreload\u001b[39m\u001b[39m'\u001b[39m, \u001b[39m'\u001b[39m\u001b[39m2\u001b[39m\u001b[39m'\u001b[39m)\n",
      "\u001b[1;31mModuleNotFoundError\u001b[0m: No module named 'statsmodels'"
     ]
    }
   ],
   "source": [
    "from mpetools import get_info_islands #, run_all_functions\n",
    "import ee\n",
    "import pandas as pd\n",
    "import numpy as np\n",
    "from statsmodels.tsa.stattools import adfuller\n",
    "\n",
    "%load_ext autoreload\n",
    "%autoreload 2\n",
    "import os\n",
    "import pickle\n",
    "import warnings\n",
    "warnings.filterwarnings(\"ignore\")\n",
    "import matplotlib\n",
    "matplotlib.use('Qt5Agg')\n",
    "import matplotlib.pyplot as plt\n",
    "from matplotlib import gridspec\n",
    "plt.ion()\n",
    "from datetime import datetime\n",
    "from coastsat.coastsat import SDS_download, SDS_preprocess, SDS_shoreline, SDS_tools, SDS_transects\n",
    "\n",
    "try:\n",
    "    ee.Initialize()\n",
    "except Exception as e:\n",
    "    ee.Authenticate()\n",
    "    ee.Initialize()"
   ]
  },
  {
   "attachments": {},
   "cell_type": "markdown",
   "metadata": {},
   "source": [
    "# Choose the island\n",
    "* Keredhdhoo is a small, almost unihabited island in Huvadhoo Atoll.\n",
    "* Aslam & Kench (2017): eroding island."
   ]
  },
  {
   "cell_type": "code",
   "execution_count": 2,
   "metadata": {},
   "outputs": [],
   "source": [
    "island = 'Keredhdhoo'\n",
    "country = 'Maldives'"
   ]
  },
  {
   "attachments": {},
   "cell_type": "markdown",
   "metadata": {},
   "source": [
    "# Retrieve all time series about the island\n",
    "### Run all functions OR retrieve available information"
   ]
  },
  {
   "cell_type": "code",
   "execution_count": 4,
   "metadata": {},
   "outputs": [
    {
     "name": "stdout",
     "output_type": "stream",
     "text": [
      "\n",
      "-------------------------------------------------------------------\n",
      "RETRIEVING ISLAND INFORMATION\n",
      "Island: Keredhdhoo, Maldives\n",
      "-------------------------------------------------------------------\n",
      "\n"
     ]
    },
    {
     "ename": "ModuleNotFoundError",
     "evalue": "No module named 'pandas.core.indexes.numeric'",
     "output_type": "error",
     "traceback": [
      "\u001b[1;31m---------------------------------------------------------------------------\u001b[0m",
      "\u001b[1;31mModuleNotFoundError\u001b[0m                       Traceback (most recent call last)",
      "\u001b[1;32mc:\\Users\\myriampe\\OneDrive\\Documents\\PhD in Earth Science\\Projects\\Islands-CI\\case_study_ESA.ipynb Cell 5\u001b[0m in \u001b[0;36m<cell line: 3>\u001b[1;34m()\u001b[0m\n\u001b[0;32m      <a href='vscode-notebook-cell:/c%3A/Users/myriampe/OneDrive/Documents/PhD%20in%20Earth%20Science/Projects/Islands-CI/case_study_ESA.ipynb#W5sZmlsZQ%3D%3D?line=3'>4</a>\u001b[0m     island_info \u001b[39m=\u001b[39m run_all_functions\u001b[39m.\u001b[39mrun_all_functions(island, country)\n\u001b[0;32m      <a href='vscode-notebook-cell:/c%3A/Users/myriampe/OneDrive/Documents/PhD%20in%20Earth%20Science/Projects/Islands-CI/case_study_ESA.ipynb#W5sZmlsZQ%3D%3D?line=5'>6</a>\u001b[0m \u001b[39melse\u001b[39;00m:\n\u001b[1;32m----> <a href='vscode-notebook-cell:/c%3A/Users/myriampe/OneDrive/Documents/PhD%20in%20Earth%20Science/Projects/Islands-CI/case_study_ESA.ipynb#W5sZmlsZQ%3D%3D?line=6'>7</a>\u001b[0m     island_info \u001b[39m=\u001b[39m get_info_islands\u001b[39m.\u001b[39;49mretrieve_info_island(island, country)    \n",
      "File \u001b[1;32mc:\\Users\\myriampe\\OneDrive\\Documents\\PhD in Earth Science\\Projects\\Islands-CI\\mpetools\\get_info_islands.py:56\u001b[0m, in \u001b[0;36mretrieve_info_island\u001b[1;34m(island, country, island_info_path, run_pre_timeseries_steps, verbose)\u001b[0m\n\u001b[0;32m     53\u001b[0m \u001b[39mif\u001b[39;00m os\u001b[39m.\u001b[39mpath\u001b[39m.\u001b[39misfile(file_island_info):\n\u001b[0;32m     54\u001b[0m     \u001b[39m# Load the .data file with pickle\u001b[39;00m\n\u001b[0;32m     55\u001b[0m     \u001b[39mwith\u001b[39;00m \u001b[39mopen\u001b[39m(file_island_info, \u001b[39m'\u001b[39m\u001b[39mrb\u001b[39m\u001b[39m'\u001b[39m) \u001b[39mas\u001b[39;00m f:\n\u001b[1;32m---> 56\u001b[0m         island_info \u001b[39m=\u001b[39m pickle\u001b[39m.\u001b[39;49mload(f)\n\u001b[0;32m     58\u001b[0m     \u001b[39mif\u001b[39;00m verbose:\n\u001b[0;32m     59\u001b[0m         \u001b[39mprint\u001b[39m(\u001b[39m'\u001b[39m\u001b[39m~ The following information is available: ~\u001b[39m\u001b[39m\\n\u001b[39;00m\u001b[39m'\u001b[39m)\n",
      "\u001b[1;31mModuleNotFoundError\u001b[0m: No module named 'pandas.core.indexes.numeric'"
     ]
    }
   ],
   "source": [
    "run = False\n",
    "\n",
    "if run:\n",
    "    island_info = run_all_functions.run_all_functions(island, country)\n",
    "\n",
    "else:\n",
    "    island_info = get_info_islands.retrieve_info_island(island, country)    "
   ]
  },
  {
   "attachments": {},
   "cell_type": "markdown",
   "metadata": {},
   "source": [
    "# Retrieve coastal change time series (`CoastSat`)"
   ]
  },
  {
   "cell_type": "code",
   "execution_count": 5,
   "metadata": {},
   "outputs": [
    {
     "name": "stdout",
     "output_type": "stream",
     "text": [
      "Number of images available between 2000-01-01 and 2022-12-31:\n",
      "- In Landsat Tier 1 & Sentinel-2 Level-1C:\n",
      "     L5: 0 images\n",
      "     L7: 61 images\n",
      "     L8: 286 images\n",
      "     L9: 30 images\n",
      "     S2: 409 images\n",
      "  Total to download: 786 images\n",
      "- In Landsat Tier 2 (not suitable for time-series analysis):\n",
      "     L5: 0 images\n",
      "     L7: 70 images\n",
      "     L8: 107 images\n",
      "  Total Tier 2: 177 images\n"
     ]
    }
   ],
   "source": [
    "# region of interest (longitude, latitude)\n",
    "polygon = [[[73.434316, 0.664876], \n",
    "            [73.434316, 0.653023],\n",
    "            [73.443429, 0.653023],\n",
    "            [73.443429, 0.664876],\n",
    "            [73.434316, 0.664876]]] \n",
    "\n",
    "# it's recommended to convert the polygon to the smallest rectangle (sides parallel to coordinate axes)       \n",
    "polygon = SDS_tools.smallest_rectangle(polygon)\n",
    "\n",
    "# date range\n",
    "dates = ['2000-01-01', '2022-12-31']\n",
    "\n",
    "# satellite missions ['L5','L7','L8','L9','S2']\n",
    "sat_list = ['L5','L7','L8','L9','S2']\n",
    "\n",
    "# choose Landsat collection 'C01' or 'C02'\n",
    "collection = 'C02'\n",
    "\n",
    "# name of the site\n",
    "sitename = '_'.join([island, country])\n",
    "\n",
    "# directory where the data will be stored\n",
    "filepath = os.path.join(os.getcwd(), 'data', 'coastsat')\n",
    "\n",
    "# put all the inputs into a dictionnary\n",
    "inputs = {'polygon': polygon, 'dates': dates, 'sat_list': sat_list, 'sitename': sitename, 'filepath': filepath,\n",
    "         'landsat_collection': collection}\n",
    "\n",
    "# before downloading the images, check how many images are available for your inputs\n",
    "SDS_download.check_images_available(inputs);"
   ]
  },
  {
   "cell_type": "code",
   "execution_count": 6,
   "metadata": {},
   "outputs": [
    {
     "name": "stdout",
     "output_type": "stream",
     "text": [
      "Number of images available between 2000-01-01 and 2022-12-31:\n",
      "- In Landsat Tier 1 & Sentinel-2 Level-1C:\n",
      "     L5: 0 images\n",
      "     L7: 61 images\n",
      "     L8: 286 images\n",
      "     L9: 30 images\n",
      "     S2: 409 images\n",
      "  Total to download: 786 images\n",
      "- In Landsat Tier 2 (not suitable for time-series analysis):\n",
      "     L5: 0 images\n",
      "     L7: 70 images\n",
      "     L8: 107 images\n",
      "  Total Tier 2: 177 images\n",
      "\n",
      "Downloading images:\n",
      "L5: 0 images\n",
      "\n",
      "L7: 61 images\n",
      "100%\n",
      "L8: 286 images\n",
      "100%\n",
      "L9: 30 images\n",
      "100%\n",
      "S2: 409 images\n",
      "100%\n",
      "Satellite images downloaded from GEE and save in c:\\Users\\myriampe\\OneDrive\\Documents\\PhD in Earth Science\\Projects\\Islands-CI\\data\\coastsat\\Keredhdhoo_Maldives\n"
     ]
    }
   ],
   "source": [
    "# Retrieve the images\n",
    "metadata = SDS_download.retrieve_images(inputs)"
   ]
  },
  {
   "cell_type": "code",
   "execution_count": 11,
   "metadata": {},
   "outputs": [],
   "source": [
    "settings = { \n",
    "    # general parameters:\n",
    "    'cloud_thresh': 0.5,        # threshold on maximum cloud cover\n",
    "    'dist_clouds': 100,         # ditance around clouds where shoreline can't be mapped\n",
    "    'output_epsg': 3274,       # epsg code of spatial reference system desired for the output\n",
    "    # quality control:\n",
    "    'check_detection': False,    # if True, shows each shoreline detection to the user for validation\n",
    "    'adjust_detection': False,  # if True, allows user to adjust the postion of each shoreline by changing the threhold\n",
    "    'save_figure': True,        # if True, saves a figure showing the mapped shoreline for each image\n",
    "    # [ONLY FOR ADVANCED USERS] shoreline detection parameters:\n",
    "    'min_beach_area': 1,     # minimum area (in metres^2) for an object to be labelled as a beach\n",
    "    'min_length_sl': 1,       # minimum length (in metres) of shoreline perimeter to be valid\n",
    "    'cloud_mask_issue': False,  # switch this parameter to True if sand pixels are masked (in black) on many images  \n",
    "    'sand_color': 'default',    # 'default', 'latest', 'dark' (for grey/black sand beaches) or 'bright' (for white sand beaches)\n",
    "    'pan_off': False,           # True to switch pansharpening off for Landsat 7/8/9 imagery\n",
    "    # add the inputs defined previously\n",
    "    'inputs': inputs,\n",
    "}"
   ]
  },
  {
   "cell_type": "code",
   "execution_count": 12,
   "metadata": {},
   "outputs": [
    {
     "name": "stdout",
     "output_type": "stream",
     "text": [
      "Saving images as jpg:\n",
      "L5: 0 images\n",
      "\n",
      "L7: 61 images\n",
      "100%\n",
      "L8: 286 images\n",
      "100%\n",
      "L9: 30 images\n",
      "100%\n",
      "S2: 409 images\n",
      "100%\n",
      "Satellite images saved as .jpg in c:\\Users\\myriampe\\OneDrive\\Documents\\PhD in Earth Science\\Projects\\Islands-CI\\data\\coastsat\\Keredhdhoo_Maldives\\jpg_files\\preprocessed\n"
     ]
    }
   ],
   "source": [
    "SDS_preprocess.save_jpg(metadata, settings, use_matplotlib=True)"
   ]
  },
  {
   "cell_type": "code",
   "execution_count": 14,
   "metadata": {},
   "outputs": [
    {
     "name": "stdout",
     "output_type": "stream",
     "text": [
      "Reference shoreline has been saved in c:\\Users\\myriampe\\OneDrive\\Documents\\PhD in Earth Science\\Projects\\Islands-CI\\data\\coastsat\\Keredhdhoo_Maldives\n"
     ]
    }
   ],
   "source": [
    "%matplotlib qt\n",
    "settings['reference_shoreline'] = SDS_preprocess.get_reference_sl(metadata, settings)\n",
    "settings['max_dist_ref'] = 100 # max distance (in meters) allowed from the reference shoreline"
   ]
  },
  {
   "cell_type": "code",
   "execution_count": 15,
   "metadata": {},
   "outputs": [
    {
     "name": "stdout",
     "output_type": "stream",
     "text": [
      "Mapping shorelines:\n",
      "\n",
      "L7:   100%\n",
      "L8:   100%\n",
      "L9:   100%\n",
      "S2:   100%\n"
     ]
    }
   ],
   "source": [
    "%matplotlib qt\n",
    "output = SDS_shoreline.extract_shorelines(metadata, settings)"
   ]
  },
  {
   "cell_type": "code",
   "execution_count": 16,
   "metadata": {},
   "outputs": [
    {
     "name": "stdout",
     "output_type": "stream",
     "text": [
      "102 duplicates\n",
      "15 bad georef\n"
     ]
    }
   ],
   "source": [
    "output = SDS_tools.remove_duplicates(output) # removes duplicates (images taken on the same date by the same satellite)\n",
    "output = SDS_tools.remove_inaccurate_georef(output, 10) # remove inaccurate georeferencing (set threshold to 10 m)"
   ]
  },
  {
   "cell_type": "code",
   "execution_count": 17,
   "metadata": {},
   "outputs": [],
   "source": [
    "from pyproj import CRS\n",
    "geomtype = 'points' # choose 'points' or 'lines' for the layer geometry\n",
    "gdf = SDS_tools.output_to_gdf(output, geomtype)\n",
    "if gdf is None:\n",
    "    raise Exception(\"output does not contain any mapped shorelines\")\n",
    "gdf.crs = CRS(settings['output_epsg']) # set layer projection\n",
    "# save GEOJSON layer to file\n",
    "gdf.to_file(os.path.join(inputs['filepath'], inputs['sitename'], '%s_output_%s.geojson'%(sitename,geomtype)),\n",
    "                                driver='GeoJSON', encoding='utf-8')"
   ]
  },
  {
   "cell_type": "code",
   "execution_count": null,
   "metadata": {},
   "outputs": [],
   "source": [
    "%matplotlib inline\n",
    "fig = plt.figure(figsize=[15,8])\n",
    "plt.axis('equal')\n",
    "plt.xlabel('Eastings')\n",
    "plt.ylabel('Northings')\n",
    "plt.grid(linestyle=':', color='0.5')\n",
    "for i in range(len(output['shorelines'])):\n",
    "    sl = output['shorelines'][i]\n",
    "    date = output['dates'][i]\n",
    "    plt.plot(sl[:,0], sl[:,1], '.', label=date.strftime('%d-%m-%Y'))\n",
    "plt.legend();"
   ]
  },
  {
   "cell_type": "code",
   "execution_count": 19,
   "metadata": {},
   "outputs": [
    {
     "name": "stdout",
     "output_type": "stream",
     "text": [
      "102 duplicates\n",
      "15 bad georef\n"
     ]
    }
   ],
   "source": [
    "filepath = os.path.join(inputs['filepath'], sitename)\n",
    "with open(os.path.join(filepath, sitename + '_output' + '.pkl'), 'rb') as f:\n",
    "    output = pickle.load(f)\n",
    "# remove duplicates (images taken on the same date by the same satellite)\n",
    "output = SDS_tools.remove_duplicates(output)\n",
    "# remove inaccurate georeferencing (set threshold to 10 m)\n",
    "output = SDS_tools.remove_inaccurate_georef(output, 10)"
   ]
  },
  {
   "cell_type": "code",
   "execution_count": 20,
   "metadata": {},
   "outputs": [
    {
     "name": "stdout",
     "output_type": "stream",
     "text": [
      "Transect locations saved in c:\\Users\\myriampe\\OneDrive\\Documents\\PhD in Earth Science\\Projects\\Islands-CI\\data\\coastsat\\Keredhdhoo_Maldives\n"
     ]
    }
   ],
   "source": [
    "%matplotlib qt\n",
    "transects = SDS_transects.draw_transects(output, settings)"
   ]
  },
  {
   "cell_type": "code",
   "execution_count": 21,
   "metadata": {},
   "outputs": [],
   "source": [
    "fig = plt.figure(figsize=[15,8], tight_layout=True)\n",
    "plt.axis('equal')\n",
    "plt.xlabel('Eastings')\n",
    "plt.ylabel('Northings')\n",
    "plt.grid(linestyle=':', color='0.5')\n",
    "for i in range(len(output['shorelines'])):\n",
    "    sl = output['shorelines'][i]\n",
    "    date = output['dates'][i]\n",
    "    plt.plot(sl[:,0], sl[:,1], '.', label=date.strftime('%d-%m-%Y'))\n",
    "for i,key in enumerate(list(transects.keys())):\n",
    "    plt.plot(transects[key][0,0],transects[key][0,1], 'bo', ms=5)\n",
    "    plt.plot(transects[key][:,0],transects[key][:,1],'k-',lw=1)\n",
    "    plt.text(transects[key][0,0]-100, transects[key][0,1]+100, key,\n",
    "                va='center', ha='right', bbox=dict(boxstyle=\"square\", ec='k',fc='w'))\n"
   ]
  },
  {
   "cell_type": "code",
   "execution_count": 22,
   "metadata": {},
   "outputs": [],
   "source": [
    "# along-shore distance over which to consider shoreline points to compute the median intersection\n",
    "settings_transects = {'along_dist':15}\n",
    "cross_distance = SDS_transects.compute_intersection(output, transects, settings_transects) "
   ]
  },
  {
   "cell_type": "code",
   "execution_count": 24,
   "metadata": {},
   "outputs": [],
   "source": [
    "fig = plt.figure(figsize=[15,8], tight_layout=True)\n",
    "gs = gridspec.GridSpec(len(cross_distance),1)\n",
    "gs.update(left=0.05, right=0.95, bottom=0.05, top=0.95, hspace=0.05)\n",
    "for i,key in enumerate(cross_distance.keys()):\n",
    "    if np.all(np.isnan(cross_distance[key])):\n",
    "        continue\n",
    "    ax = fig.add_subplot(gs[i,0])\n",
    "    ax.grid(linestyle=':', color='0.5')\n",
    "    ax.plot(output['dates'], cross_distance[key], '-o', ms=6, mfc='w')\n",
    "    ax.set_ylabel('distance [m]', fontsize=12)\n",
    "    ax.text(0.5,0.95, key, bbox=dict(boxstyle=\"square\", ec='k',fc='w'), ha='center',\n",
    "            va='top', transform=ax.transAxes, fontsize=14)  "
   ]
  },
  {
   "cell_type": "code",
   "execution_count": 25,
   "metadata": {},
   "outputs": [
    {
     "name": "stdout",
     "output_type": "stream",
     "text": [
      "Time-series of the shoreline change along the transects saved as:\n",
      "c:\\Users\\myriampe\\OneDrive\\Documents\\PhD in Earth Science\\Projects\\Islands-CI\\data\\coastsat\\Keredhdhoo_Maldives\\transect_time_series.csv\n"
     ]
    }
   ],
   "source": [
    "# save a .csv file for Excel users\n",
    "out_dict = dict([])\n",
    "out_dict['dates'] = output['dates']\n",
    "for key in transects.keys():\n",
    "    out_dict[key] = cross_distance[key]\n",
    "df = pd.DataFrame(out_dict)\n",
    "fn = os.path.join(settings['inputs']['filepath'],settings['inputs']['sitename'],\n",
    "                  'transect_time_series.csv')\n",
    "df.to_csv(fn, sep=',')\n",
    "print('Time-series of the shoreline change along the transects saved as:\\n%s'%fn)"
   ]
  },
  {
   "cell_type": "code",
   "execution_count": 44,
   "metadata": {},
   "outputs": [
    {
     "name": "stdout",
     "output_type": "stream",
     "text": [
      "55 transects have been loaded coordinates are in epsg:4326\n"
     ]
    }
   ],
   "source": [
    "geojson_file = os.path.join(os.getcwd(),'data','coastsat', '{}_{}'.format(island, country),'{}_{}_transects.geojson'.format(island, country))\n",
    "transects = SDS_tools.transects_from_geojson(geojson_file)"
   ]
  },
  {
   "cell_type": "code",
   "execution_count": 41,
   "metadata": {},
   "outputs": [
    {
     "data": {
      "text/plain": [
       "(62, 2)"
      ]
     },
     "execution_count": 41,
     "metadata": {},
     "output_type": "execute_result"
    }
   ],
   "source": [
    "output['shorelines'][0].shape"
   ]
  },
  {
   "cell_type": "code",
   "execution_count": 24,
   "metadata": {},
   "outputs": [],
   "source": [
    "# load mapped shorelines from 1984\n",
    "filename_output = os.path.join(os.getcwd(),'data','coastsat', '{}_{}'.format(island, country),'{}_{}_output.pkl'.format(island, country))\n",
    "with open(filename_output, 'rb') as f:\n",
    "    output = pickle.load(f) \n",
    "\n",
    "# plot the mapped shorelines\n",
    "fig = plt.figure(figsize=[15,8], tight_layout=True)\n",
    "plt.axis('equal')\n",
    "plt.xlabel('Eastings')\n",
    "plt.ylabel('Northings')\n",
    "plt.grid(linestyle=':', color='0.5')\n",
    "plt.title('%d shorelines mapped at Narrabeen from 1984'%len(output['shorelines']))\n",
    "for i in range(len(output['shorelines'])):\n",
    "    sl = output['shorelines'][i]\n",
    "    date = output['dates'][i]\n",
    "    plt.plot(sl[:,0], sl[:,1], '.', label=date.strftime('%d-%m-%Y'))\n",
    "for i,key in enumerate(list(transects.keys())):\n",
    "    plt.plot(transects[key][0,0],transects[key][0,1], 'bo', ms=5)\n",
    "    plt.plot(transects[key][:,0],transects[key][:,1],'k-',lw=1)\n",
    "    plt.text(transects[key][0,0]-100, transects[key][0,1]+100, key,\n",
    "             va='center', ha='right', bbox=dict(boxstyle=\"square\", ec='k',fc='w'))\n",
    "\n",
    "\n",
    "# load long time-series (1984-2021)\n",
    "filepath = os.path.join(os.getcwd(),'data','coastsat', '{}_{}'.format(island, country),'transect_time_series.csv'.format(island, country))\n",
    "df = pd.read_csv(filepath, parse_dates=['dates'])\n",
    "dates = [_.to_pydatetime() for _ in df['dates']]\n",
    "cross_distance = dict([])\n",
    "for key in transects.keys():\n",
    "    cross_distance[key] = np.array(df[key])\n"
   ]
  },
  {
   "cell_type": "code",
   "execution_count": 33,
   "metadata": {},
   "outputs": [],
   "source": [
    "df = pd.DataFrame(cross_distance, index=dates)"
   ]
  },
  {
   "cell_type": "code",
   "execution_count": 25,
   "metadata": {},
   "outputs": [
    {
     "ename": "IndexError",
     "evalue": "boolean index did not match indexed array along dimension 0; dimension is 443 but corresponding boolean dimension is 559",
     "output_type": "error",
     "traceback": [
      "\u001b[1;31m---------------------------------------------------------------------------\u001b[0m",
      "\u001b[1;31mIndexError\u001b[0m                                Traceback (most recent call last)",
      "\u001b[1;32mc:\\Users\\myriampe\\OneDrive\\Documents\\PhD in Earth Science\\Projects\\Islands-CI\\case_study_ESA.ipynb Cell 25\u001b[0m in \u001b[0;36m<cell line: 6>\u001b[1;34m()\u001b[0m\n\u001b[0;32m      <a href='vscode-notebook-cell:/c%3A/Users/myriampe/OneDrive/Documents/PhD%20in%20Earth%20Science/Projects/Islands-CI/case_study_ESA.ipynb#X32sZmlsZQ%3D%3D?line=0'>1</a>\u001b[0m \u001b[39m# remove outliers in the time-series (coastal despiking)\u001b[39;00m\n\u001b[0;32m      <a href='vscode-notebook-cell:/c%3A/Users/myriampe/OneDrive/Documents/PhD%20in%20Earth%20Science/Projects/Islands-CI/case_study_ESA.ipynb#X32sZmlsZQ%3D%3D?line=1'>2</a>\u001b[0m settings_outliers \u001b[39m=\u001b[39m {\u001b[39m'\u001b[39m\u001b[39mmax_cross_change\u001b[39m\u001b[39m'\u001b[39m:   \u001b[39m40\u001b[39m,             \u001b[39m# maximum cross-shore change observable between consecutive timesteps\u001b[39;00m\n\u001b[0;32m      <a href='vscode-notebook-cell:/c%3A/Users/myriampe/OneDrive/Documents/PhD%20in%20Earth%20Science/Projects/Islands-CI/case_study_ESA.ipynb#X32sZmlsZQ%3D%3D?line=2'>3</a>\u001b[0m                      \u001b[39m'\u001b[39m\u001b[39motsu_threshold\u001b[39m\u001b[39m'\u001b[39m:     [\u001b[39m-\u001b[39m\u001b[39m.5\u001b[39m,\u001b[39m0\u001b[39m],        \u001b[39m# min and max intensity threshold use for contouring the shoreline\u001b[39;00m\n\u001b[0;32m      <a href='vscode-notebook-cell:/c%3A/Users/myriampe/OneDrive/Documents/PhD%20in%20Earth%20Science/Projects/Islands-CI/case_study_ESA.ipynb#X32sZmlsZQ%3D%3D?line=3'>4</a>\u001b[0m                      \u001b[39m'\u001b[39m\u001b[39mplot_fig\u001b[39m\u001b[39m'\u001b[39m:           \u001b[39mTrue\u001b[39;00m,           \u001b[39m# whether to plot the intermediate steps\u001b[39;00m\n\u001b[0;32m      <a href='vscode-notebook-cell:/c%3A/Users/myriampe/OneDrive/Documents/PhD%20in%20Earth%20Science/Projects/Islands-CI/case_study_ESA.ipynb#X32sZmlsZQ%3D%3D?line=4'>5</a>\u001b[0m                     }\n\u001b[1;32m----> <a href='vscode-notebook-cell:/c%3A/Users/myriampe/OneDrive/Documents/PhD%20in%20Earth%20Science/Projects/Islands-CI/case_study_ESA.ipynb#X32sZmlsZQ%3D%3D?line=5'>6</a>\u001b[0m cross_distance \u001b[39m=\u001b[39m SDS_transects\u001b[39m.\u001b[39;49mreject_outliers(cross_distance,output,settings_outliers)\n",
      "File \u001b[1;32mc:\\Users\\myriampe\\OneDrive\\Documents\\PhD in Earth Science\\Projects\\Islands-CI\\coastsat\\coastsat\\SDS_transects.py:451\u001b[0m, in \u001b[0;36mreject_outliers\u001b[1;34m(cross_distance, output, settings)\u001b[0m\n\u001b[0;32m    449\u001b[0m idx_kept \u001b[39m=\u001b[39m []\n\u001b[0;32m    450\u001b[0m \u001b[39mfor\u001b[39;00m date \u001b[39min\u001b[39;00m output[\u001b[39m'\u001b[39m\u001b[39mdates\u001b[39m\u001b[39m'\u001b[39m]: idx_kept\u001b[39m.\u001b[39mappend(date \u001b[39min\u001b[39;00m dates3)\n\u001b[1;32m--> 451\u001b[0m chainage[\u001b[39m~\u001b[39;49mnp\u001b[39m.\u001b[39;49marray(idx_kept)] \u001b[39m=\u001b[39m np\u001b[39m.\u001b[39mnan\n\u001b[0;32m    452\u001b[0m \u001b[39m# store in chain_dict\u001b[39;00m\n\u001b[0;32m    453\u001b[0m chain_dict[key] \u001b[39m=\u001b[39m chainage\n",
      "\u001b[1;31mIndexError\u001b[0m: boolean index did not match indexed array along dimension 0; dimension is 443 but corresponding boolean dimension is 559"
     ]
    }
   ],
   "source": [
    "# remove outliers in the time-series (coastal despiking)\n",
    "settings_outliers = {'max_cross_change':   40,             # maximum cross-shore change observable between consecutive timesteps\n",
    "                     'otsu_threshold':     [-.5,0],        # min and max intensity threshold use for contouring the shoreline\n",
    "                     'plot_fig':           True,           # whether to plot the intermediate steps\n",
    "                    }\n",
    "cross_distance = SDS_transects.reject_outliers(cross_distance,output,settings_outliers)"
   ]
  },
  {
   "cell_type": "code",
   "execution_count": 34,
   "metadata": {},
   "outputs": [],
   "source": [
    "df_m = df.groupby(pd.Grouper(freq='M')).mean()"
   ]
  },
  {
   "cell_type": "code",
   "execution_count": 36,
   "metadata": {},
   "outputs": [
    {
     "data": {
      "text/plain": [
       "2000-03-31 00:00:00+00:00           NaN\n",
       "2000-04-30 00:00:00+00:00           NaN\n",
       "2000-05-31 00:00:00+00:00           NaN\n",
       "2000-06-30 00:00:00+00:00           NaN\n",
       "2000-07-31 00:00:00+00:00           NaN\n",
       "                                ...    \n",
       "2022-08-31 00:00:00+00:00    147.995295\n",
       "2022-09-30 00:00:00+00:00    150.895970\n",
       "2022-10-31 00:00:00+00:00    149.025270\n",
       "2022-11-30 00:00:00+00:00    145.938438\n",
       "2022-12-31 00:00:00+00:00    150.570715\n",
       "Freq: M, Name: 1, Length: 274, dtype: float64"
      ]
     },
     "execution_count": 36,
     "metadata": {},
     "output_type": "execute_result"
    }
   ],
   "source": [
    "df_m['1']"
   ]
  }
 ],
 "metadata": {
  "kernelspec": {
   "display_name": "islands-db",
   "language": "python",
   "name": "python3"
  },
  "language_info": {
   "codemirror_mode": {
    "name": "ipython",
    "version": 3
   },
   "file_extension": ".py",
   "mimetype": "text/x-python",
   "name": "python",
   "nbconvert_exporter": "python",
   "pygments_lexer": "ipython3",
   "version": "3.8.16"
  },
  "orig_nbformat": 4
 },
 "nbformat": 4,
 "nbformat_minor": 2
}
