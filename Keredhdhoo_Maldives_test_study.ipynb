{
 "cells": [
  {
   "cell_type": "code",
   "execution_count": 10,
   "metadata": {},
   "outputs": [
    {
     "name": "stdout",
     "output_type": "stream",
     "text": [
      "The autoreload extension is already loaded. To reload it, use:\n",
      "  %reload_ext autoreload\n"
     ]
    }
   ],
   "source": [
    "from datetime import datetime\n",
    "from mpetools import get_info_islands, run_all_functions, match_time_frames_frequency, get_OpenStreetMap_data\n",
    "import ee\n",
    "import pandas as pd\n",
    "import numpy as np\n",
    "from statsmodels.tsa.stattools import adfuller\n",
    "import os\n",
    "import pickle\n",
    "import pytz\n",
    "import pymannkendall as mk\n",
    "import matplotlib.pyplot as plt\n",
    "\n",
    "try:\n",
    "    ee.Initialize()\n",
    "except Exception as e:\n",
    "    ee.Authenticate()\n",
    "    ee.Initialize()\n",
    "\n",
    "%load_ext autoreload\n",
    "%autoreload 2"
   ]
  },
  {
   "attachments": {},
   "cell_type": "markdown",
   "metadata": {},
   "source": [
    "# Choose the island\n",
    "* Keredhdhoo is a small, almost unihabited island in Huvadhoo Atoll.\n",
    "* Aslam & Kench (2017): eroding island."
   ]
  },
  {
   "cell_type": "code",
   "execution_count": 55,
   "metadata": {},
   "outputs": [],
   "source": [
    "island = 'Banaba'\n",
    "country = 'Kiribati'"
   ]
  },
  {
   "attachments": {},
   "cell_type": "markdown",
   "metadata": {},
   "source": [
    "# Retrieve all time series about the island\n",
    "### Run all functions OR retrieve available information"
   ]
  },
  {
   "cell_type": "code",
   "execution_count": 60,
   "metadata": {},
   "outputs": [
    {
     "name": "stdout",
     "output_type": "stream",
     "text": [
      "\n",
      "-------------------------------------------------------------------\n",
      "PRE-TIME-SERIES INFORMATION\n",
      "Island: Banaba, Kiribati\n",
      "-------------------------------------------------------------------\n",
      "\n",
      "~ All information is already available, returning information. ~\n",
      "\n",
      "-------------------------------------------------------------------\n",
      "RETRIEVING CLIMATE INDICES (NOAA Physical Sciences Laboratory) DATA\n",
      "Island: Banaba, Kiribati\n",
      "-------------------------------------------------------------------\n",
      "\n",
      "~ Retrieving Pacific North American Index. ~\n",
      "~ Retrieving East Pacific/North Pacific Oscillation. ~\n",
      "~ Retrieving Western Pacific Index. ~\n",
      "~ Retrieving Eastern Atlantic/Western Russia. ~\n",
      "~ Retrieving North Atlantic Oscillation. ~\n",
      "~ Retrieving North Atlantic Oscillation (Jones). ~\n",
      "~ Retrieving Southern Oscillation Index. ~\n",
      "~ Retrieving Eastern Tropical Pacific SST (anomalies). ~\n",
      "~ Retrieving Eastern Tropical Pacific SST (mean values). ~\n",
      "~ Retrieving Bivariate ENSO Timeseries. ~\n",
      "~ Retrieving Tropical Northern Atlantic Index. ~\n",
      "~ Retrieving Tropical Southern Atlantic Index. ~\n",
      "~ Retrieving Western Hemisphere Warm Pool. ~\n",
      "~ Retrieving Oceanic Niño Index. ~\n",
      "~ Retrieving Multivariate ENSO Index (MEI V2). ~\n",
      "~ Retrieving Extreme Eastern Tropical Pacific SST (anomalies). ~\n",
      "~ Retrieving Extreme Eastern Tropical Pacific SST (mean values). ~\n",
      "~ Retrieving Central Tropical Pacific SST (anomalies). ~\n",
      "~ Retrieving Central Tropical Pacific SST (mean values). ~\n",
      "~ Retrieving East Central Tropical Pacific SST (anomalies). ~\n",
      "~ Retrieving East Central Tropical Pacific SST (mean values). ~\n",
      "~ Retrieving Pacific Decadal Oscillation. ~\n",
      "~ Retrieving Tripole Index for the Interdecadal Pacific Oscillation. ~\n",
      "~ Retrieving Northern Oscillation Index. ~\n",
      "~ Retrieving North Pacific Pattern. ~\n",
      "~ Retrieving Indices of El Niño Evolution. ~\n",
      "~ Retrieving Monthly Totals Atlantic Hurricanes and Named Tropical Storms. ~\n",
      "Climate index not available.\n",
      "~ Retrieving Arctic Oscillation. ~\n",
      "~ Retrieving Antarctic Oscillation. ~\n",
      "~ Retrieving Pacific Warmpool Area Average. ~\n",
      "~ Retrieving Tropical Pacific SST EOF. ~\n",
      "~ Retrieving Atlantic Tripole SST EOF. ~\n",
      "~ Retrieving Atlantic multidecadal Oscillation (unsmoothed). ~\n",
      "~ Retrieving Atlantic Merodional Mode. ~\n",
      "~ Retrieving North Tropical Atlantic SST Index. ~\n",
      "~ Retrieving Caribbean SST Index. ~\n",
      "~ Retrieving Atlantic Multidecadal Oscillation (smoothed). ~\n",
      "~ Retrieving Quasi-Biennial Oscillation. ~\n",
      "~ Retrieving ENSO Precipitation Index. ~\n",
      "~ Retrieving Central Indian Precipitation. ~\n",
      "~ Retrieving Sahel Standardized Rainfall. ~\n",
      "~ Retrieving Area Averaged Precipitation for Arizona and New Mexico. ~\n",
      "~ Retrieving Northeast Brazil Rainfall Anomaly. ~\n",
      "~ Retrieving Solar Flux (10.7cm). ~\n",
      "~ Retrieving Global Mean Land/Ocean Temperature. ~\n",
      "\n",
      "-------------------------------------------------------------------\n",
      "RETRIEVING TIME SERIES FOR TIDE-GAUGE SEA-LEVEL (PSMSL) DATA\n",
      "Island: Banaba, Kiribati\n",
      "-------------------------------------------------------------------\n",
      "\n",
      "~ Retrieving data from the 1st closest station: NAURU-B at a distance of 294.5 km from the island. ~\n",
      "~ Retrieving data from the 2nd closest station: NAURU at a distance of 295.6 km from the island. ~\n",
      "~ Retrieving data from the 3rd closest station: BETIO at a distance of 450.9 km from the island. ~\n",
      "\n",
      "-------------------------------------------------------------------\n",
      "RETRIEVING TIME SERIES FOR SEA LEVELS, BAROMETRIC PRESSURES, WATER TEMPERATURES AND AIR TEMPERTATURES (PSLGM) DATA\n",
      "Island: Banaba, Kiribati\n",
      "-------------------------------------------------------------------\n",
      "\n",
      "No PSLGM information for this island.\n",
      "\n",
      "-------------------------------------------------------------------\n",
      "RETRIEVING DAILY TEMPERATURE, TOTAL PRECIPITATION, SURFACE PRESSURE, MEAN SEA LEVEL PRESSURE, WIND (ERA-5) DATA\n",
      "Island: Banaba, Kiribati\n",
      "-------------------------------------------------------------------\n",
      "\n",
      "~ Retrieving Mean 2m air temperature. ~\n"
     ]
    }
   ],
   "source": [
    "run = True\n",
    "\n",
    "if run:\n",
    "    island_info = run_all_functions.run_all_functions(island, country)\n",
    "\n",
    "else:\n",
    "    island_info = get_info_islands.retrieve_info_island(island, country)    "
   ]
  },
  {
   "attachments": {},
   "cell_type": "markdown",
   "metadata": {},
   "source": [
    "# Retrieve coastal change time series (`CoastSat`)"
   ]
  },
  {
   "cell_type": "code",
   "execution_count": 28,
   "metadata": {},
   "outputs": [],
   "source": [
    "filepath = os.path.join(os.getcwd(), 'data', 'coastsat', '{}_{}'.format(island, country), 'transect_time_series.csv'.format(island, country))\n",
    "df = pd.read_csv(filepath, parse_dates=['dates'])\n",
    "dates = [_.to_pydatetime() for _ in df['dates']]\n",
    "df['dates'] = dates\n",
    "df_new = df.set_index('dates').drop('Unnamed: 0', axis=1)"
   ]
  },
  {
   "cell_type": "code",
   "execution_count": 30,
   "metadata": {},
   "outputs": [],
   "source": [
    "df_coastlines = df_new.groupby(pd.Grouper(freq='M')).mean()"
   ]
  },
  {
   "cell_type": "code",
   "execution_count": 31,
   "metadata": {},
   "outputs": [],
   "source": [
    "# Start and end dates as `datetime`\n",
    "start_date = pytz.utc.localize(datetime.strptime('2015-06-01', '%Y-%m-%d'))\n",
    "end_date = pytz.utc.localize(datetime.strptime('2020-01-01', '%Y-%m-%d'))"
   ]
  },
  {
   "cell_type": "code",
   "execution_count": 32,
   "metadata": {},
   "outputs": [],
   "source": [
    "df_coastlines_tf = df_coastlines[(df_coastlines.index >= start_date) & (df_coastlines.index <= end_date)]"
   ]
  },
  {
   "cell_type": "code",
   "execution_count": 33,
   "metadata": {},
   "outputs": [],
   "source": [
    "df_coastlines_tf_filled = df_coastlines_tf.fillna(df_coastlines_tf.rolling(2, min_periods=1, center=True).mean())"
   ]
  },
  {
   "cell_type": "code",
   "execution_count": 34,
   "metadata": {},
   "outputs": [
    {
     "name": "stdout",
     "output_type": "stream",
     "text": [
      "1\n",
      "(-2.6743781617980917, 0.07857787149837978, 3, 51, {'1%': -3.5656240522121956, '5%': -2.920142229157715, '10%': -2.598014675124952}, 359.42691446798204)\n",
      "Mann_Kendall_Test(trend='decreasing', h=True, p=0.00015096301002115453, z=-3.789479925104077, Tau=-0.35218855218855216, s=-523.0, var_s=18975.0, slope=-0.5992285910912133, intercept=198.31854577482179)\n",
      "2\n",
      "(-5.556418317439688, 1.5772014600916584e-06, 0, 54, {'1%': -3.55770911573439, '5%': -2.9167703434435808, '10%': -2.59622219478738}, 357.99495170436825)\n",
      "Mann_Kendall_Test(trend='decreasing', h=True, p=0.024880246630055947, z=-2.2432569983347053, Tau=-0.20875420875420875, s=-310.0, var_s=18974.0, slope=-0.16703601616110358, intercept=151.39733104334297)\n",
      "3\n",
      "(-4.159150096927894, 0.0007720378134078406, 3, 51, {'1%': -3.5656240522121956, '5%': -2.920142229157715, '10%': -2.598014675124952}, 371.32256502474314)\n",
      "Mann_Kendall_Test(trend='no trend', h=False, p=0.47231752076961375, z=-0.7187134072334493, Tau=-0.06734006734006734, s=-100.0, var_s=18974.0, slope=-0.11732220068454714, intercept=184.15446691402232)\n",
      "4\n",
      "(-5.8702251695763445, 3.2533629153466606e-07, 0, 54, {'1%': -3.55770911573439, '5%': -2.9167703434435808, '10%': -2.59622219478738}, 347.2833484358282)\n",
      "Mann_Kendall_Test(trend='no trend', h=False, p=0.1273830036448691, z=-1.5245034181453183, Tau=-0.1420875420875421, s=-211.0, var_s=18975.0, slope=-0.13429407825481404, intercept=170.17461051277598)\n",
      "5\n",
      "(-3.101698809212823, 0.026427724169201316, 2, 52, {'1%': -3.562878534649522, '5%': -2.918973284023669, '10%': -2.597393446745562}, 364.95296748453825)\n",
      "Mann_Kendall_Test(trend='decreasing', h=True, p=0.006341370023074333, z=-2.7295870724887603, Tau=-0.25387205387205386, s=-377.0, var_s=18975.0, slope=-0.262994690998022, intercept=188.68032838288863)\n",
      "6\n",
      "(-3.1173174254132667, 0.025297883567760564, 6, 48, {'1%': -3.5745892596209488, '5%': -2.9239543084490744, '10%': -2.6000391840277777}, 384.4638612074315)\n",
      "Mann_Kendall_Test(trend='decreasing', h=True, p=0.018668207842842843, z=-2.352090987995634, Tau=-0.21885521885521886, s=-325.0, var_s=18975.0, slope=-0.26981313436291454, intercept=213.15624986861354)\n",
      "7\n",
      "(-4.729229276029339, 7.413306272973462e-05, 0, 54, {'1%': -3.55770911573439, '5%': -2.9167703434435808, '10%': -2.59622219478738}, 402.68708356638365)\n",
      "Mann_Kendall_Test(trend='no trend', h=False, p=0.5662934874563537, z=-0.5735187795095201, Tau=-0.05387205387205387, s=-80.0, var_s=18974.0, slope=-0.14869467345318937, intercept=240.9028951423273)\n",
      "8\n",
      "(-5.325680789354803, 4.843328665458228e-06, 0, 54, {'1%': -3.55770911573439, '5%': -2.9167703434435808, '10%': -2.59622219478738}, 393.75354497422865)\n",
      "Mann_Kendall_Test(trend='no trend', h=False, p=0.37971176730371425, z=-0.8784274977297714, Tau=-0.08215488215488216, s=-122.0, var_s=18974.0, slope=-0.14655278712502653, intercept=203.24285716167813)\n",
      "9\n",
      "(-5.707469249983698, 7.430933439073074e-07, 0, 54, {'1%': -3.55770911573439, '5%': -2.9167703434435808, '10%': -2.59622219478738}, 386.6755281787013)\n",
      "Mann_Kendall_Test(trend='no trend', h=False, p=0.10546445572524421, z=-1.61892009912181, Tau=-0.15084175084175083, s=-224.0, var_s=18974.0, slope=-0.25299192788204056, intercept=176.64614573343005)\n",
      "10\n",
      "(-4.109418818101117, 0.0009343812944039499, 5, 49, {'1%': -3.5714715250448363, '5%': -2.922629480573571, '10%': -2.5993358475635153}, 366.23350203679587)\n",
      "Mann_Kendall_Test(trend='no trend', h=False, p=0.7004109667298466, z=-0.38476576346841224, Tau=-0.03636363636363636, s=-54.0, var_s=18974.0, slope=-0.06106844019729149, intercept=165.94027154116588)\n",
      "11\n",
      "(-5.1346773852738625, 1.1934406526393054e-05, 0, 54, {'1%': -3.55770911573439, '5%': -2.9167703434435808, '10%': -2.59622219478738}, 362.6997583541798)\n",
      "Mann_Kendall_Test(trend='no trend', h=False, p=0.9768341558621205, z=0.029038160345625112, Tau=0.003367003367003367, s=5.0, var_s=18975.0, slope=0.0006664207523130997, intercept=150.6394239300136)\n",
      "12\n",
      "(-3.6581496770341793, 0.004741844261126795, 2, 52, {'1%': -3.562878534649522, '5%': -2.918973284023669, '10%': -2.597393446745562}, 364.49424350783795)\n",
      "Mann_Kendall_Test(trend='no trend', h=False, p=0.5324171580487169, z=0.6243204474309398, Tau=0.05858585858585859, s=87.0, var_s=18975.0, slope=0.14206486732545218, intercept=169.5112884636465)\n",
      "13\n",
      "(-5.235538600709557, 7.436130035215478e-06, 0, 54, {'1%': -3.55770911573439, '5%': -2.9167703434435808, '10%': -2.59622219478738}, 351.6963272067628)\n",
      "Mann_Kendall_Test(trend='increasing', h=True, p=0.001144856164775554, z=3.2522739587100125, Tau=0.3023569023569024, s=449.0, var_s=18975.0, slope=0.3917830973509077, intercept=161.50473066997492)\n",
      "14\n",
      "(-2.3803765550710976, 0.14735174842784543, 4, 50, {'1%': -3.568485864, '5%': -2.92135992, '10%': -2.5986616}, 366.8730757193173)\n",
      "Mann_Kendall_Test(trend='no trend', h=False, p=0.0718028749859374, z=1.800365941428757, Tau=0.16767676767676767, s=249.0, var_s=18975.0, slope=0.18310813917671326, intercept=179.54352550782883)\n",
      "15\n",
      "(-6.67381085916321, 4.517813234989606e-09, 0, 54, {'1%': -3.55770911573439, '5%': -2.9167703434435808, '10%': -2.59622219478738}, 394.18222323630863)\n",
      "Mann_Kendall_Test(trend='increasing', h=True, p=0.02263762199363728, z=2.279495587131571, Tau=0.21212121212121213, s=315.0, var_s=18975.0, slope=0.3204070270864037, intercept=138.32162343088572)\n",
      "16\n",
      "(-1.9176921433692886, 0.3237844853855546, 4, 50, {'1%': -3.568485864, '5%': -2.92135992, '10%': -2.5986616}, 348.8984878321573)\n",
      "Mann_Kendall_Test(trend='no trend', h=False, p=0.06107372339527006, z=1.8729613422928197, Tau=0.1744107744107744, s=259.0, var_s=18975.0, slope=0.13604015225427638, intercept=128.44282004884244)\n",
      "17\n",
      "(-7.478528650711648, 4.841090066332219e-11, 0, 54, {'1%': -3.55770911573439, '5%': -2.9167703434435808, '10%': -2.59622219478738}, 375.8959406254089)\n",
      "Mann_Kendall_Test(trend='no trend', h=False, p=0.52765048883687, z=0.6315966305990918, Tau=0.05925925925925926, s=88.0, var_s=18974.0, slope=0.06833307542821049, intercept=108.59472466533776)\n",
      "18\n",
      "(-7.038778042333082, 5.920856088836645e-10, 0, 54, {'1%': -3.55770911573439, '5%': -2.9167703434435808, '10%': -2.59622219478738}, 361.0011999356358)\n",
      "Mann_Kendall_Test(trend='increasing', h=True, p=0.03463657497047801, z=2.112581833383169, Tau=0.19663299663299663, s=292.0, var_s=18974.0, slope=0.19673269519923053, intercept=89.89652846013631)\n",
      "19\n",
      "(-2.618905441834342, 0.08915250886086717, 2, 52, {'1%': -3.562878534649522, '5%': -2.918973284023669, '10%': -2.597393446745562}, 359.08947241482673)\n",
      "Mann_Kendall_Test(trend='no trend', h=False, p=0.099361079831495, z=1.6479590246665958, Tau=0.15353535353535352, s=228.0, var_s=18974.0, slope=0.12953389945265517, intercept=92.01187905938582)\n",
      "20\n",
      "(-6.162200090794062, 7.129292053134925e-08, 0, 54, {'1%': -3.55770911573439, '5%': -2.9167703434435808, '10%': -2.59622219478738}, 364.8151758832289)\n",
      "Mann_Kendall_Test(trend='no trend', h=False, p=0.48131200164055876, z=0.7041939444610564, Tau=0.06599326599326599, s=98.0, var_s=18974.0, slope=0.1020133127205605, intercept=75.62928422126701)\n",
      "21\n",
      "(-8.050037423939647, 1.7520388336011422e-12, 0, 54, {'1%': -3.55770911573439, '5%': -2.9167703434435808, '10%': -2.59622219478738}, 368.8260015641255)\n",
      "Mann_Kendall_Test(trend='no trend', h=False, p=0.25437887331714415, z=1.1397778276328439, Tau=0.1063973063973064, s=158.0, var_s=18974.0, slope=0.08602509833898268, intercept=51.58551053538772)\n",
      "22\n",
      "(-2.9000852750715476, 0.045338082040261574, 2, 52, {'1%': -3.562878534649522, '5%': -2.918973284023669, '10%': -2.597393446745562}, 385.50044130838177)\n",
      "Mann_Kendall_Test(trend='no trend', h=False, p=0.1840028011424697, z=1.3285308436739518, Tau=0.12390572390572391, s=184.0, var_s=18974.0, slope=0.149253054390423, intercept=54.01698354651014)\n",
      "23\n",
      "(-6.82020668979081, 2.010939945038754e-09, 0, 54, {'1%': -3.55770911573439, '5%': -2.9167703434435808, '10%': -2.59622219478738}, 349.1263611083741)\n",
      "Mann_Kendall_Test(trend='increasing', h=True, p=0.023506796240493122, z=2.26509588274649, Tau=0.21077441077441078, s=313.0, var_s=18973.0, slope=0.23146073050082006, intercept=62.924179975494894)\n",
      "24\n",
      "(-5.124231027061726, 1.2528582105954111e-05, 1, 53, {'1%': -3.560242358792829, '5%': -2.9178502070837, '10%': -2.5967964150943397}, 329.57034417711793)\n",
      "Mann_Kendall_Test(trend='no trend', h=False, p=0.7994255663771359, z=0.254090598516876, Tau=0.024242424242424242, s=36.0, var_s=18974.0, slope=0.03047643844712411, intercept=70.8199827721633)\n",
      "25\n",
      "(-7.545847704148511, 3.2852841717679064e-11, 0, 54, {'1%': -3.55770911573439, '5%': -2.9167703434435808, '10%': -2.59622219478738}, 349.9853870094501)\n",
      "Mann_Kendall_Test(trend='no trend', h=False, p=0.5761621864916486, z=0.5589993167371272, Tau=0.052525252525252523, s=78.0, var_s=18974.0, slope=0.0783372058498025, intercept=60.446542055911756)\n",
      "26\n",
      "(-7.977735718228668, 2.6741667939348265e-12, 0, 54, {'1%': -3.55770911573439, '5%': -2.9167703434435808, '10%': -2.59622219478738}, 362.9342391977762)\n",
      "Mann_Kendall_Test(trend='no trend', h=False, p=0.37188557708464787, z=0.8929469605021643, Tau=0.08350168350168351, s=124.0, var_s=18974.0, slope=0.08013516404570124, intercept=52.60998458993965)\n",
      "27\n",
      "(-7.918941756945511, 3.7695846180560615e-12, 0, 54, {'1%': -3.55770911573439, '5%': -2.9167703434435808, '10%': -2.59622219478738}, 386.04602451738157)\n",
      "Mann_Kendall_Test(trend='no trend', h=False, p=0.07294835866513116, z=1.793153652390525, Tau=0.16700336700336701, s=248.0, var_s=18974.0, slope=0.21642346300948992, intercept=50.277700910601354)\n",
      "28\n",
      "(-8.198097248853859, 7.355644485345967e-13, 0, 54, {'1%': -3.55770911573439, '5%': -2.9167703434435808, '10%': -2.59622219478738}, 372.53379430400855)\n",
      "Mann_Kendall_Test(trend='no trend', h=False, p=0.1526690704372866, z=1.430167083080702, Tau=0.13333333333333333, s=198.0, var_s=18974.0, slope=0.1271620306022169, intercept=54.59395143981183)\n",
      "29\n",
      "(-7.308184672278273, 1.2849506577263194e-10, 0, 54, {'1%': -3.55770911573439, '5%': -2.9167703434435808, '10%': -2.59622219478738}, 355.97751043494236)\n",
      "Mann_Kendall_Test(trend='no trend', h=False, p=0.36416019758960383, z=0.9074664232745572, Tau=0.08484848484848485, s=126.0, var_s=18974.0, slope=0.10199877159856925, intercept=61.74488339484459)\n",
      "30\n",
      "(-7.750220697488528, 1.0066502411148187e-11, 0, 54, {'1%': -3.55770911573439, '5%': -2.9167703434435808, '10%': -2.59622219478738}, 392.941129769134)\n",
      "Mann_Kendall_Test(trend='no trend', h=False, p=0.24837830701182373, z=1.1542972904052367, Tau=0.10774410774410774, s=160.0, var_s=18974.0, slope=0.12232685695348268, intercept=62.08188053714391)\n",
      "31\n",
      "(-7.7103840856963135, 1.2684917151162554e-11, 0, 54, {'1%': -3.55770911573439, '5%': -2.9167703434435808, '10%': -2.59622219478738}, 367.86336443529297)\n",
      "Mann_Kendall_Test(trend='no trend', h=False, p=0.5565066242577401, z=0.588038242281913, Tau=0.055218855218855216, s=82.0, var_s=18974.0, slope=0.05663412906671934, intercept=49.70403576004744)\n",
      "32\n",
      "(-7.755791525531572, 9.746016937037535e-12, 0, 54, {'1%': -3.55770911573439, '5%': -2.9167703434435808, '10%': -2.59622219478738}, 351.6432713746093)\n",
      "Mann_Kendall_Test(trend='no trend', h=False, p=0.7549125083908248, z=0.3121684496064477, Tau=0.02962962962962963, s=44.0, var_s=18974.0, slope=0.012094000753145472, intercept=54.46041549698307)\n",
      "33\n",
      "(-5.565449969608483, 1.5083936614765782e-06, 2, 52, {'1%': -3.562878534649522, '5%': -2.918973284023669, '10%': -2.597393446745562}, 388.96842838646995)\n",
      "Mann_Kendall_Test(trend='no trend', h=False, p=0.5662934874563537, z=-0.5735187795095201, Tau=-0.05387205387205387, s=-80.0, var_s=18974.0, slope=-0.044761826419798575, intercept=55.19893027042965)\n",
      "34\n",
      "(-4.895839744343216, 3.553049690144836e-05, 2, 52, {'1%': -3.562878534649522, '5%': -2.918973284023669, '10%': -2.597393446745562}, 420.37289017957386)\n",
      "Mann_Kendall_Test(trend='no trend', h=False, p=0.8332523148510484, z=-0.21053221019969726, Tau=-0.020202020202020204, s=-30.0, var_s=18974.0, slope=-0.04149765874579154, intercept=67.53829521264204)\n",
      "35\n",
      "(-2.7846074512488745, 0.06050634557794245, 3, 51, {'1%': -3.5656240522121956, '5%': -2.920142229157715, '10%': -2.598014675124952}, 414.08858857929334)\n",
      "Mann_Kendall_Test(trend='no trend', h=False, p=0.19128537192323902, z=1.3067860861998983, Tau=0.12188552188552189, s=181.0, var_s=18973.0, slope=0.2814906641639169, intercept=81.12681021947526)\n",
      "36\n",
      "(-2.8059569562978575, 0.05742788454394262, 1, 53, {'1%': -3.560242358792829, '5%': -2.9178502070837, '10%': -2.5967964150943397}, 453.7396839065042)\n",
      "Mann_Kendall_Test(trend='increasing', h=True, p=0.0006620912851316163, z=3.4048140201261385, Tau=0.3164983164983165, s=470.0, var_s=18974.0, slope=1.441785046305845, intercept=73.05919603782922)\n",
      "37\n",
      "(-4.9455656738160405, 2.8410000189635384e-05, 0, 54, {'1%': -3.55770911573439, '5%': -2.9167703434435808, '10%': -2.59622219478738}, 451.9940363851999)\n",
      "Mann_Kendall_Test(trend='increasing', h=True, p=0.04433120371600907, z=2.0109455939764187, Tau=0.1872053872053872, s=278.0, var_s=18974.0, slope=0.710096039950234, intercept=81.35873142019696)\n",
      "38\n",
      "(-3.4476366268574368, 0.009438249258574654, 1, 53, {'1%': -3.560242358792829, '5%': -2.9178502070837, '10%': -2.5967964150943397}, 411.69758430693173)\n",
      "Mann_Kendall_Test(trend='no trend', h=False, p=0.668415137536428, z=0.42832415178559097, Tau=0.04040404040404041, s=60.0, var_s=18974.0, slope=0.0781968159251962, intercept=65.84561012182994)\n",
      "39\n",
      "(-4.661966112915977, 9.91431384904107e-05, 5, 49, {'1%': -3.5714715250448363, '5%': -2.922629480573571, '10%': -2.5993358475635153}, 386.3764336951915)\n",
      "Mann_Kendall_Test(trend='no trend', h=False, p=0.6474100985853282, z=0.45736307733037684, Tau=0.0430976430976431, s=64.0, var_s=18974.0, slope=0.07023723273710002, intercept=68.52769656736956)\n",
      "40\n",
      "(-6.416644277506934, 1.8342904763138397e-08, 0, 54, {'1%': -3.55770911573439, '5%': -2.9167703434435808, '10%': -2.59622219478738}, 368.56653676994443)\n",
      "Mann_Kendall_Test(trend='no trend', h=False, p=0.9942076232913697, z=0.007259731386196458, Tau=0.0013468013468013469, s=2.0, var_s=18974.0, slope=0.0009459475630974753, intercept=57.29373808611239)\n",
      "41\n",
      "(-4.199364277147008, 0.0006605347662652702, 5, 49, {'1%': -3.5714715250448363, '5%': -2.922629480573571, '10%': -2.5993358475635153}, 314.6102895443071)\n",
      "Mann_Kendall_Test(trend='no trend', h=False, p=0.7549125083908248, z=0.3121684496064477, Tau=0.02962962962962963, s=44.0, var_s=18974.0, slope=0.024502308574006752, intercept=56.65014736357879)\n",
      "42\n",
      "(-7.5500861186625325, 3.205956445037692e-11, 0, 54, {'1%': -3.55770911573439, '5%': -2.9167703434435808, '10%': -2.59622219478738}, 310.76456589636086)\n",
      "Mann_Kendall_Test(trend='no trend', h=False, p=0.41201681173691274, z=-0.8203496466401997, Tau=-0.07676767676767676, s=-114.0, var_s=18974.0, slope=-0.06777727111653525, intercept=47.242620783248356)\n",
      "43\n",
      "(-7.862871291715351, 5.227366238224329e-12, 0, 54, {'1%': -3.55770911573439, '5%': -2.9167703434435808, '10%': -2.59622219478738}, 322.08642975736933)\n",
      "Mann_Kendall_Test(trend='no trend', h=False, p=0.7549125083908248, z=0.3121684496064477, Tau=0.02962962962962963, s=44.0, var_s=18974.0, slope=0.01478507392155426, intercept=46.29325123326018)\n",
      "44\n",
      "(-7.505334650540257, 4.1490878272018066e-11, 0, 54, {'1%': -3.55770911573439, '5%': -2.9167703434435808, '10%': -2.59622219478738}, 363.5614726752124)\n",
      "Mann_Kendall_Test(trend='no trend', h=False, p=0.7220451442534295, z=-0.3557268379236264, Tau=-0.03367003367003367, s=-50.0, var_s=18974.0, slope=-0.03754557908127921, intercept=63.12357694275904)\n",
      "45\n",
      "(-6.945147193462803, 1.001655887965107e-09, 0, 54, {'1%': -3.55770911573439, '5%': -2.9167703434435808, '10%': -2.59622219478738}, 312.4060037046435)\n",
      "Mann_Kendall_Test(trend='no trend', h=False, p=0.48131200164055876, z=-0.7041939444610564, Tau=-0.06599326599326599, s=-98.0, var_s=18974.0, slope=-0.03776922803587155, intercept=54.65800963967758)\n",
      "46\n",
      "(-7.405328003628038, 7.370619005166439e-11, 0, 54, {'1%': -3.55770911573439, '5%': -2.9167703434435808, '10%': -2.59622219478738}, 339.98324190951087)\n",
      "Mann_Kendall_Test(trend='no trend', h=False, p=0.7882297689797644, z=-0.26861006128926895, Tau=-0.02558922558922559, s=-38.0, var_s=18974.0, slope=-0.018121473207037598, intercept=66.16402050263547)\n",
      "47\n",
      "(-4.2362766690472835, 0.0005716813586105416, 7, 47, {'1%': -3.5778480370438146, '5%': -2.925338105429433, '10%': -2.6007735310095064}, 338.9518999798417)\n",
      "Mann_Kendall_Test(trend='no trend', h=False, p=0.49957728125117673, z=0.6751550189162705, Tau=0.0632996632996633, s=94.0, var_s=18974.0, slope=0.056574566913933345, intercept=70.5867246389622)\n",
      "48\n",
      "(3.8029491229322834, 1.0, 10, 44, {'1%': -3.5885733964124715, '5%': -2.929885661157025, '10%': -2.6031845661157025}, 369.2539084056806)\n",
      "Mann_Kendall_Test(trend='increasing', h=True, p=0.00035468005144756454, z=3.5716937225118888, Tau=0.331986531986532, s=493.0, var_s=18975.0, slope=0.4777732426433576, intercept=60.86338808569113)\n",
      "49\n",
      "(-4.968964466647056, 2.5555605559001203e-05, 0, 54, {'1%': -3.55770911573439, '5%': -2.9167703434435808, '10%': -2.59622219478738}, 361.696867900891)\n",
      "Mann_Kendall_Test(trend='increasing', h=True, p=0.013036789822679085, z=2.482762709550947, Tau=0.23097643097643097, s=343.0, var_s=18975.0, slope=0.38583999328711416, intercept=58.35863406977604)\n",
      "50\n",
      "(-4.158680136846342, 0.000773439693240865, 3, 51, {'1%': -3.5656240522121956, '5%': -2.920142229157715, '10%': -2.598014675124952}, 357.13005512937923)\n",
      "Mann_Kendall_Test(trend='no trend', h=False, p=0.1310474206404495, z=1.5099843379725058, Tau=0.14074074074074075, s=209.0, var_s=18975.0, slope=0.21420498113728248, intercept=79.38815254426585)\n",
      "51\n",
      "(-5.297528049779584, 5.540582627239455e-06, 7, 47, {'1%': -3.5778480370438146, '5%': -2.925338105429433, '10%': -2.6007735310095064}, 292.0554191713845)\n",
      "Mann_Kendall_Test(trend='no trend', h=False, p=0.6215542825622034, z=-0.4936487258756269, Tau=-0.046464646464646465, s=-69.0, var_s=18975.0, slope=-0.03819561062940835, intercept=92.59340909464692)\n",
      "52\n",
      "(-6.3198622733746594, 3.085115721868856e-08, 0, 54, {'1%': -3.55770911573439, '5%': -2.9167703434435808, '10%': -2.59622219478738}, 365.5217846516906)\n",
      "Mann_Kendall_Test(trend='no trend', h=False, p=0.9594704520964974, z=0.0508181197033752, Tau=0.0053872053872053875, s=8.0, var_s=18974.0, slope=0.01083668218580144, intercept=98.36879120927253)\n",
      "53\n",
      "(-6.651520266460356, 5.106704726977107e-09, 0, 54, {'1%': -3.55770911573439, '5%': -2.9167703434435808, '10%': -2.59622219478738}, 395.78880577909905)\n",
      "Mann_Kendall_Test(trend='no trend', h=False, p=0.8902918707107106, z=-0.1379348963377327, Tau=-0.013468013468013467, s=-20.0, var_s=18974.0, slope=-0.012593838302930361, intercept=134.26289120335875)\n",
      "54\n",
      "(-4.382101268112375, 0.00031924747433976456, 0, 54, {'1%': -3.55770911573439, '5%': -2.9167703434435808, '10%': -2.59622219478738}, 363.3206396984142)\n",
      "Mann_Kendall_Test(trend='no trend', h=False, p=0.971044220849359, z=0.03629865693098229, Tau=0.00404040404040404, s=6.0, var_s=18974.0, slope=0.003779941203816861, intercept=145.14424590931222)\n",
      "55\n",
      "(-3.663884416033485, 0.004650803467056301, 0, 54, {'1%': -3.55770911573439, '5%': -2.9167703434435808, '10%': -2.59622219478738}, 344.1259926414873)\n",
      "Mann_Kendall_Test(trend='decreasing', h=True, p=0.001235391248795903, z=-3.2305804668574236, Tau=-0.30033670033670035, s=-446.0, var_s=18974.0, slope=-0.38643771437916596, intercept=179.25637976988662)\n"
     ]
    }
   ],
   "source": [
    "dict_trend = {}\n",
    "for col in df_coastlines_tf_filled.columns:\n",
    "    print(col)\n",
    "    print(adfuller(df_coastlines_tf_filled[col].values))\n",
    "    print(mk.original_test(df_coastlines_tf_filled[col].values))\n",
    "    dict_trend[col] = mk.original_test(df_coastlines_tf_filled[col].values)[0]"
   ]
  },
  {
   "cell_type": "code",
   "execution_count": 305,
   "metadata": {},
   "outputs": [
    {
     "name": "stdout",
     "output_type": "stream",
     "text": [
      "1 decreasing\n",
      "2 decreasing\n",
      "3 no trend\n",
      "4 no trend\n",
      "5 decreasing\n",
      "6 decreasing\n",
      "7 no trend\n",
      "8 no trend\n",
      "9 no trend\n",
      "10 no trend\n",
      "11 no trend\n",
      "12 no trend\n",
      "13 increasing\n",
      "14 no trend\n",
      "15 increasing\n",
      "16 no trend\n",
      "17 no trend\n",
      "18 increasing\n",
      "19 no trend\n",
      "20 no trend\n",
      "21 no trend\n",
      "22 no trend\n",
      "23 increasing\n",
      "24 no trend\n",
      "25 no trend\n",
      "26 no trend\n",
      "27 no trend\n",
      "28 no trend\n",
      "29 no trend\n",
      "30 no trend\n",
      "31 no trend\n",
      "32 no trend\n",
      "33 no trend\n",
      "34 no trend\n",
      "35 no trend\n",
      "36 increasing\n",
      "37 increasing\n",
      "38 no trend\n",
      "39 no trend\n",
      "40 no trend\n",
      "41 no trend\n",
      "42 no trend\n",
      "43 no trend\n",
      "44 no trend\n",
      "45 no trend\n",
      "46 no trend\n",
      "47 no trend\n",
      "48 increasing\n",
      "49 increasing\n",
      "50 no trend\n",
      "51 no trend\n",
      "52 no trend\n",
      "53 no trend\n",
      "54 no trend\n",
      "55 decreasing\n"
     ]
    }
   ],
   "source": [
    "for i in dict_trend:\n",
    "    print(i, dict_trend[i])"
   ]
  },
  {
   "attachments": {},
   "cell_type": "markdown",
   "metadata": {},
   "source": [
    "# Match time frames"
   ]
  },
  {
   "cell_type": "code",
   "execution_count": 35,
   "metadata": {},
   "outputs": [
    {
     "name": "stdout",
     "output_type": "stream",
     "text": [
      "\n",
      "-------------------------------------------------------------------\n",
      "PRE-TIME-SERIES INFORMATION\n",
      "Island: Keredhdhoo, Maldives\n",
      "-------------------------------------------------------------------\n",
      "\n",
      "~ All information is already available, returning information. ~\n",
      "\n",
      "-------------------------------------------------------------------\n",
      "RETRIEVING DISASTERS (EM-DAT) DATA\n",
      "Island: Keredhdhoo, Maldives\n",
      "-------------------------------------------------------------------\n",
      "\n",
      "~ Information already available. Returning data. ~\n",
      "\n",
      "-------------------------------------------------------------------\n",
      "RETRIEVING CLIMATE INDICES (NOAA Physical Sciences Laboratory) DATA\n",
      "Island: Keredhdhoo, Maldives\n",
      "-------------------------------------------------------------------\n",
      "\n",
      "~ Information already available. Returning data. ~\n",
      "\n",
      "-------------------------------------------------------------------\n",
      "RETRIEVING TIME SERIES FOR TIDE-GAUGE SEA-LEVEL (PSMSL) DATA\n",
      "Island: Keredhdhoo, Maldives\n",
      "-------------------------------------------------------------------\n",
      "\n",
      "~ Information already available. Returning data. ~\n",
      "\n",
      "-------------------------------------------------------------------\n",
      "RETRIEVING TIME SERIES FOR SEA LEVELS, BAROMETRIC PRESSURES, WATER TEMPERATURES AND AIR TEMPERTATURES (PSLGM) DATA\n",
      "Island: Keredhdhoo, Maldives\n",
      "-------------------------------------------------------------------\n",
      "\n",
      "~ Information already available. Returning data. ~\n",
      "\n",
      "-------------------------------------------------------------------\n",
      "RETRIEVING DAILY TEMPERATURE, TOTAL PRECIPITATION, SURFACE PRESSURE, MEAN SEA LEVEL PRESSURE, WIND (ERA-5) DATA\n",
      "Island: Keredhdhoo, Maldives\n",
      "-------------------------------------------------------------------\n",
      "\n",
      "~ Information already available. Returning data. ~\n",
      "\n",
      "-------------------------------------------------------------------\n",
      "RETRIEVING SEA SURFACE TEMPERATURE (NOAA Coral Reef Watch) DATA\n",
      "Island: Keredhdhoo, Maldives\n",
      "-------------------------------------------------------------------\n",
      "\n",
      "~ Information already available. Returning data. ~\n",
      "\n",
      "-------------------------------------------------------------------\n",
      "RETRIEVING Coupled Evapotranspiration and Gross Primary Product (PML_V2) DATA\n",
      "Island: Keredhdhoo, Maldives\n",
      "-------------------------------------------------------------------\n",
      "\n",
      "~ Information already available. Returning data. ~\n",
      "\n",
      "-------------------------------------------------------------------\n",
      "RETRIEVING WORLD BANK DATA\n",
      "Island: Keredhdhoo, Maldives\n",
      "-------------------------------------------------------------------\n",
      "\n",
      "~ Information already available. Returning data. ~\n",
      "\n",
      "-------------------------------------------------------------------\n",
      "RETRIEVING NIGHTTIME LIGHT DATA\n",
      "Island: Keredhdhoo, Maldives\n",
      "-------------------------------------------------------------------\n",
      "\n",
      "~ Information already available. Returning data. ~\n",
      "\n",
      "-------------------------------------------------------------------\n",
      "RETRIEVING World Health Organization (WHO) DATA\n",
      "Island: Keredhdhoo, Maldives\n",
      "-------------------------------------------------------------------\n",
      "\n",
      "~ Information already available. Returning data. ~\n",
      "\n",
      "-------------------------------------------------------------------\n",
      "MATCHING TIME FRAME AND FREQUENCY\n",
      "Retrieving all available time series between 2015-06-01 and 2020-01-01 at a monthly frequency\n",
      "Island: Keredhdhoo, Maldives\n",
      "-------------------------------------------------------------------\n",
      "\n"
     ]
    }
   ],
   "source": [
    "date_range = ['2015-06-01', '2020-01-01']\n",
    "\n",
    "island_info, df_timeseries = match_time_frames_frequency.MatchTimeFrameFrequency(island, country, date_range=date_range, frequency='monthly').main()"
   ]
  },
  {
   "cell_type": "code",
   "execution_count": 36,
   "metadata": {},
   "outputs": [],
   "source": [
    "df_timeseries.index = [pytz.utc.localize(df_timeseries.index[i]) for i in range(len(df_timeseries.index))]"
   ]
  },
  {
   "cell_type": "code",
   "execution_count": 37,
   "metadata": {},
   "outputs": [
    {
     "data": {
      "text/plain": [
       "Index(['wave_energy', 'pna', 'wp', 'ea', 'nao', 'jonesnao', 'soi',\n",
       "       'nina3.anom', 'nina3', 'censo',\n",
       "       ...\n",
       "       '46', '47', '48', '49', '50', '51', '52', '53', '54', '55'],\n",
       "      dtype='object', length=101)"
      ]
     },
     "execution_count": 37,
     "metadata": {},
     "output_type": "execute_result"
    }
   ],
   "source": [
    "df_total = pd.concat([df_timeseries, df_coastlines_tf_filled], axis=1)\n",
    "df_total.columns"
   ]
  },
  {
   "attachments": {},
   "cell_type": "markdown",
   "metadata": {},
   "source": [
    "# Select variables for causal discovery"
   ]
  },
  {
   "cell_type": "code",
   "execution_count": 38,
   "metadata": {},
   "outputs": [],
   "source": [
    "transect = 19\n",
    "var_names = ['wave_energy', 'sea_level_anomaly', 'mean_SST', 'mean_sea_level_pressure', 'total_precipitation', 'mean_2m_air_temperature', 'u_component_of_wind_10m', 'v_component_of_wind_10m', '{}'.format(transect)]#, 'meiv2']#, '18', '36', '7', '27']\n",
    "df_selected_variables = df_total[var_names]"
   ]
  },
  {
   "attachments": {},
   "cell_type": "markdown",
   "metadata": {},
   "source": [
    "# Causal discovery with `Tigramite`"
   ]
  },
  {
   "cell_type": "code",
   "execution_count": 39,
   "metadata": {},
   "outputs": [],
   "source": [
    "# Imports\n",
    "import numpy as np\n",
    "import matplotlib\n",
    "from matplotlib import pyplot as plt\n",
    "%matplotlib qt    \n",
    "## use `%matplotlib notebook` for interactive figures\n",
    "# plt.style.use('ggplot')\n",
    "import sklearn\n",
    "\n",
    "import tigramite\n",
    "from tigramite import data_processing as pp\n",
    "from tigramite.toymodels import structural_causal_processes as toys\n",
    "\n",
    "from tigramite import plotting as tp\n",
    "from tigramite.pcmci import PCMCI\n",
    "from tigramite.lpcmci import LPCMCI\n",
    "\n",
    "from tigramite.independence_tests.parcorr import ParCorr\n",
    "from tigramite.independence_tests.robust_parcorr import RobustParCorr\n",
    "from tigramite.independence_tests.parcorr_wls import ParCorrWLS \n",
    "from tigramite.independence_tests.gpdc import GPDC\n",
    "from tigramite.independence_tests.cmiknn import CMIknn\n",
    "from tigramite.independence_tests.cmisymb import CMIsymb\n",
    "from tigramite.independence_tests.gsquared import Gsquared\n",
    "from tigramite.independence_tests.regressionCI import RegressionCI"
   ]
  },
  {
   "attachments": {},
   "cell_type": "markdown",
   "metadata": {},
   "source": [
    "# Analysis with raw data"
   ]
  },
  {
   "cell_type": "code",
   "execution_count": 435,
   "metadata": {},
   "outputs": [],
   "source": [
    "data = df_selected_variables.values\n",
    "datatime = np.linspace(2015, 2020, np.shape(df_selected_variables.values)[0])\n",
    "N = np.shape(df_selected_variables.values)[1]\n",
    "T = np.shape(df_selected_variables.values)[0]"
   ]
  },
  {
   "cell_type": "code",
   "execution_count": 18,
   "metadata": {},
   "outputs": [],
   "source": [
    "dataframe = pp.DataFrame(df_selected_variables.values, \n",
    "                         datatime = {0:np.linspace(2015, 2020, np.shape(df_selected_variables.values)[0])}, \n",
    "                         var_names=var_names)\n",
    "tp.plot_timeseries(dataframe); plt.show()"
   ]
  },
  {
   "attachments": {},
   "cell_type": "markdown",
   "metadata": {},
   "source": [
    "# Analysis without seasons and trends"
   ]
  },
  {
   "cell_type": "code",
   "execution_count": 40,
   "metadata": {},
   "outputs": [],
   "source": [
    "import pandas as pd\n",
    "from statsmodels.tsa.seasonal import STL\n",
    "\n",
    "var = ['WE', 'SLA', 'SST', 'MSLP', 'TP', 'AT', 'WU', 'WV', 'CP_{}'.format(transect)]\n",
    "\n",
    "# Assuming you have a pandas DataFrame with a 'date' column and 'value' column\n",
    "# where 'date' is the timestamp and 'value' is the time series values\n",
    "# data = pd.DataFrame({'date': [...], 'value': [...]})\n",
    "data = df_selected_variables.copy()\n",
    "\n",
    "for idx, col in enumerate(data.columns):\n",
    "\n",
    "    # Perform seasonal decomposition\n",
    "    stl = STL(data[col], seasonal=13)  # seasonal period of 13 for monthly data\n",
    "    res = stl.fit()\n",
    "\n",
    "    # Remove trend and seasonality from the original time series\n",
    "    detrended = data[col] - res.trend - res.seasonal\n",
    "\n",
    "    # Plot the original, trend, and seasonally adjusted time series\n",
    "    #res.plot()\n",
    "\n",
    "    if idx == 0:\n",
    "        # Initialize a DataFrame with the detrended time series\n",
    "        df_detrended = pd.DataFrame({col:detrended})\n",
    "    else:\n",
    "        # Add the detrended time series to DataFrame\n",
    "        df_detrended = pd.concat([df_detrended, pd.DataFrame({col:detrended})], axis=1)\n"
   ]
  },
  {
   "cell_type": "code",
   "execution_count": 41,
   "metadata": {},
   "outputs": [],
   "source": [
    "df = df_detrended.copy()"
   ]
  },
  {
   "cell_type": "code",
   "execution_count": 43,
   "metadata": {},
   "outputs": [],
   "source": [
    "import matplotlib.colors as mcolors\n",
    "\n",
    "colors = list(mcolors.TABLEAU_COLORS.values())[:len(df_detrended.columns)]\n",
    "\n",
    "# Create subplots\n",
    "fig, axs = plt.subplots(len(df_detrended.columns), 1, sharex=True)\n",
    "\n",
    "for iidx in range(len(df_detrended.columns)):\n",
    "\n",
    "    # Plot data on each subplot \n",
    "    #axs[iidx].plot(df_selected_variables.index, df_selected_variables[df_selected_variables.columns[iidx]])\n",
    "    axs[iidx].plot(df_detrended.index, df_detrended[df_detrended.columns[iidx]], color=colors[iidx])\n",
    "    axs[iidx].set_ylabel(var[iidx])\n",
    "\n",
    "axs[len(df_detrended.columns)-1].set_xlabel('time')\n",
    "\n",
    "# Adjust spacing between subplots if needed\n",
    "plt.subplots_adjust(hspace=0.5)\n",
    "plt.xlim(df_detrended.index[0], df_detrended.index[-1])\n",
    "\n",
    "# Display the plot\n",
    "plt.savefig('timeseries_{}.png'.format(transect), dpi=300)#, bbox_inches='tight')\n",
    "plt.show()"
   ]
  },
  {
   "cell_type": "code",
   "execution_count": 16,
   "metadata": {},
   "outputs": [],
   "source": [
    "data = df_detrended.values\n",
    "N = np.shape(data)[1]\n",
    "T = np.shape(data)[0]\n",
    "datatime = np.linspace(2015, 2020-1./12., T)"
   ]
  },
  {
   "cell_type": "code",
   "execution_count": 17,
   "metadata": {},
   "outputs": [],
   "source": [
    "dataframe = pp.DataFrame(data, var_names=var, datatime=datatime)\n",
    "#tp.plot_timeseries(dataframe); plt.show()"
   ]
  },
  {
   "cell_type": "code",
   "execution_count": null,
   "metadata": {},
   "outputs": [
    {
     "name": "stdout",
     "output_type": "stream",
     "text": [
      "\n",
      "##\n",
      "## Estimating lagged dependencies \n",
      "##\n",
      "\n",
      "Parameters:\n",
      "\n",
      "independence test = par_corr\n",
      "tau_min = 0\n",
      "tau_max = 20\n"
     ]
    },
    {
     "name": "stderr",
     "output_type": "stream",
     "text": [
      "findfont: Font family ['Bitstream Vera Sans'] not found. Falling back to DejaVu Sans.\n",
      "findfont: Font family ['Bitstream Vera Sans'] not found. Falling back to DejaVu Sans.\n",
      "findfont: Font family ['Bitstream Vera Sans'] not found. Falling back to DejaVu Sans.\n"
     ]
    }
   ],
   "source": [
    "parcorr = ParCorr(significance='analytic')\n",
    "pcmci = PCMCI(\n",
    "    dataframe=dataframe, \n",
    "    cond_ind_test=parcorr,\n",
    "    verbosity=1)\n",
    "correlations = pcmci.get_lagged_dependencies(tau_max=20, val_only=True)['val_matrix']\n",
    "\n",
    "matrix_lags = None #np.argmax(np.abs(correlations), axis=2)\n",
    "tp.plot_scatterplots(dataframe=dataframe, add_scatterplot_args={'matrix_lags':matrix_lags}); plt.show()\n",
    "\n",
    "tp.plot_densityplots(dataframe=dataframe, add_densityplot_args={'matrix_lags':matrix_lags})\n",
    "plt.show()"
   ]
  },
  {
   "cell_type": "code",
   "execution_count": 52,
   "metadata": {},
   "outputs": [
    {
     "name": "stdout",
     "output_type": "stream",
     "text": [
      "\n",
      "##\n",
      "## Estimating lagged dependencies \n",
      "##\n",
      "\n",
      "Parameters:\n",
      "\n",
      "independence test = par_corr\n",
      "tau_min = 0\n",
      "tau_max = 25\n"
     ]
    }
   ],
   "source": [
    "parcorr = ParCorr(significance='analytic')\n",
    "pcmci = PCMCI(\n",
    "    dataframe=dataframe, \n",
    "    cond_ind_test=parcorr,\n",
    "    verbosity=1)\n",
    "\n",
    "correlations = pcmci.get_lagged_dependencies(tau_max=25, val_only=True)['val_matrix']\n",
    "lag_func_matrix = tp.plot_lagfuncs(val_matrix=correlations, setup_args={'var_names':var_names, \n",
    "                                    'x_base':5, 'y_base':.5}); plt.show()"
   ]
  },
  {
   "cell_type": "code",
   "execution_count": 18,
   "metadata": {},
   "outputs": [],
   "source": [
    "def get_df_results(results, tau_range, var):\n",
    "    arr_results = np.array(['causal link', 'tau', 'val_matrix', 'frequency'], dtype=object)\n",
    "    for tau in tau_range:\n",
    "        idx_non_empty = np.argwhere(results['graph'][:, :, tau] != '')\n",
    "\n",
    "        if np.shape(idx_non_empty)[0] > 0:\n",
    "            for idx in range(len(idx_non_empty)):\n",
    "                result_link = ' '.join(np.array([var[idx_non_empty[idx][0]], results['graph'][idx_non_empty[idx][0], idx_non_empty[idx][1], tau], var[idx_non_empty[idx][1]]]))\n",
    "                result_val_matrix = results['val_matrix'][idx_non_empty[idx][0], idx_non_empty[idx][1], tau]\n",
    "                arr_results = np.row_stack((arr_results, np.array([result_link, tau, result_val_matrix, 1])))\n",
    "\n",
    "    df_results = pd.DataFrame(arr_results[1:], columns=arr_results[0])\n",
    "    df_results = df_results.set_index('causal link')\n",
    "    df_results['frequency'] = df_results['frequency'].astype(int)\n",
    "    df_results['val_matrix'] = df_results['val_matrix'].astype(float)\n",
    "\n",
    "    return df_results"
   ]
  },
  {
   "cell_type": "code",
   "execution_count": 19,
   "metadata": {},
   "outputs": [],
   "source": [
    "%matplotlib inline\n",
    "\n",
    "parcorr = ParCorr(significance='analytic')\n",
    "pcmci = PCMCI(\n",
    "    dataframe=dataframe, \n",
    "    cond_ind_test=parcorr,\n",
    "    verbosity=0)\n",
    "\n",
    "for it, i in enumerate(range(1, 25)):    \n",
    "    pcmci.verbosity = 0\n",
    "    pc_alpha = 0.05\n",
    "    tau_max = i\n",
    "    results = pcmci.run_pcmciplus(tau_max=tau_max, pc_alpha=pc_alpha)\n",
    "\n",
    "    '''\n",
    "    tp.plot_graph(\n",
    "        val_matrix=results['val_matrix'],\n",
    "        graph=results['graph'],\n",
    "        var_names=var,\n",
    "        link_colorbar_label='cross-MCI',\n",
    "        node_colorbar_label='auto-MCI',\n",
    "        show_autodependency_lags=False\n",
    "        ); plt.show()\n",
    "    '''\n",
    "\n",
    "    df_results = get_df_results(results, tau_range=range(0, tau_max+1), var=var)\n",
    "\n",
    "    if it == 0:\n",
    "        df_results_total = df_results\n",
    "    \n",
    "    else:\n",
    "        df_results_total = pd.concat([df_results_total, df_results], axis=0)\n",
    "\n",
    "df_results_total_agg = df_results_total.groupby([df_results_total.index, 'tau']).agg({'val_matrix': 'mean', 'frequency': 'sum'})\n"
   ]
  },
  {
   "cell_type": "code",
   "execution_count": 416,
   "metadata": {},
   "outputs": [
    {
     "data": {
      "text/html": [
       "<div>\n",
       "<style scoped>\n",
       "    .dataframe tbody tr th:only-of-type {\n",
       "        vertical-align: middle;\n",
       "    }\n",
       "\n",
       "    .dataframe tbody tr th {\n",
       "        vertical-align: top;\n",
       "    }\n",
       "\n",
       "    .dataframe thead th {\n",
       "        text-align: right;\n",
       "    }\n",
       "</style>\n",
       "<table border=\"1\" class=\"dataframe\">\n",
       "  <thead>\n",
       "    <tr style=\"text-align: right;\">\n",
       "      <th></th>\n",
       "      <th></th>\n",
       "      <th>val_matrix</th>\n",
       "      <th>frequency</th>\n",
       "    </tr>\n",
       "    <tr>\n",
       "      <th>causal link</th>\n",
       "      <th>tau</th>\n",
       "      <th></th>\n",
       "      <th></th>\n",
       "    </tr>\n",
       "  </thead>\n",
       "  <tbody>\n",
       "    <tr>\n",
       "      <th>AT --&gt; AT</th>\n",
       "      <th>18</th>\n",
       "      <td>0.882659</td>\n",
       "      <td>2</td>\n",
       "    </tr>\n",
       "    <tr>\n",
       "      <th rowspan=\"2\" valign=\"top\">AT --&gt; CP_44</th>\n",
       "      <th>8</th>\n",
       "      <td>-0.808485</td>\n",
       "      <td>1</td>\n",
       "    </tr>\n",
       "    <tr>\n",
       "      <th>9</th>\n",
       "      <td>-0.527712</td>\n",
       "      <td>2</td>\n",
       "    </tr>\n",
       "    <tr>\n",
       "      <th rowspan=\"2\" valign=\"top\">AT --&gt; MSLP</th>\n",
       "      <th>19</th>\n",
       "      <td>0.610059</td>\n",
       "      <td>2</td>\n",
       "    </tr>\n",
       "    <tr>\n",
       "      <th>4</th>\n",
       "      <td>-0.361569</td>\n",
       "      <td>2</td>\n",
       "    </tr>\n",
       "    <tr>\n",
       "      <th>...</th>\n",
       "      <th>...</th>\n",
       "      <td>...</td>\n",
       "      <td>...</td>\n",
       "    </tr>\n",
       "    <tr>\n",
       "      <th>WV --&gt; WU</th>\n",
       "      <th>2</th>\n",
       "      <td>-0.460761</td>\n",
       "      <td>5</td>\n",
       "    </tr>\n",
       "    <tr>\n",
       "      <th>WV --&gt; WV</th>\n",
       "      <th>12</th>\n",
       "      <td>-0.894014</td>\n",
       "      <td>4</td>\n",
       "    </tr>\n",
       "    <tr>\n",
       "      <th>WV &lt;-- WU</th>\n",
       "      <th>0</th>\n",
       "      <td>-0.476866</td>\n",
       "      <td>1</td>\n",
       "    </tr>\n",
       "    <tr>\n",
       "      <th>WV o-o WU</th>\n",
       "      <th>0</th>\n",
       "      <td>-0.020139</td>\n",
       "      <td>3</td>\n",
       "    </tr>\n",
       "    <tr>\n",
       "      <th>WV x-x SLA</th>\n",
       "      <th>0</th>\n",
       "      <td>-0.426188</td>\n",
       "      <td>1</td>\n",
       "    </tr>\n",
       "  </tbody>\n",
       "</table>\n",
       "<p>159 rows × 2 columns</p>\n",
       "</div>"
      ],
      "text/plain": [
       "                  val_matrix  frequency\n",
       "causal link  tau                       \n",
       "AT --> AT    18     0.882659          2\n",
       "AT --> CP_44 8     -0.808485          1\n",
       "             9     -0.527712          2\n",
       "AT --> MSLP  19     0.610059          2\n",
       "             4     -0.361569          2\n",
       "...                      ...        ...\n",
       "WV --> WU    2     -0.460761          5\n",
       "WV --> WV    12    -0.894014          4\n",
       "WV <-- WU    0     -0.476866          1\n",
       "WV o-o WU    0     -0.020139          3\n",
       "WV x-x SLA   0     -0.426188          1\n",
       "\n",
       "[159 rows x 2 columns]"
      ]
     },
     "execution_count": 416,
     "metadata": {},
     "output_type": "execute_result"
    }
   ],
   "source": [
    "df_results_total_agg"
   ]
  },
  {
   "cell_type": "code",
   "execution_count": 20,
   "metadata": {},
   "outputs": [
    {
     "name": "stdout",
     "output_type": "stream",
     "text": [
      "1 sigma: 3 +/- 2\n"
     ]
    }
   ],
   "source": [
    "mean = int(np.round(np.mean(df_results_total_agg.frequency.values), 0))\n",
    "std = int(np.round(np.std(df_results_total_agg.frequency.values), 0))\n",
    "\n",
    "print('1 sigma:', mean, '+/-', std)"
   ]
  },
  {
   "cell_type": "markdown",
   "metadata": {},
   "source": [
    "### Go from `pd.DataFrame` to `results['graph']`"
   ]
  },
  {
   "cell_type": "code",
   "execution_count": 24,
   "metadata": {},
   "outputs": [],
   "source": [
    "import matplotlib\n",
    "matplotlib.rcParams['mathtext.fontset'] = 'custom'\n",
    "matplotlib.rcParams['mathtext.rm'] = 'Bitstream Vera Sans'\n",
    "matplotlib.rcParams['mathtext.it'] = 'Bitstream Vera Sans:italic'\n",
    "matplotlib.rcParams['mathtext.bf'] = 'Bitstream Vera Sans:bold'\n",
    "import matplotlib.colors as mcolors\n",
    "\n",
    "from tigramite.models import LinearMediation, Prediction\n",
    "\n",
    "%matplotlib qt"
   ]
  },
  {
   "cell_type": "code",
   "execution_count": 22,
   "metadata": {},
   "outputs": [],
   "source": [
    "med = LinearMediation(dataframe=dataframe)"
   ]
  },
  {
   "cell_type": "code",
   "execution_count": 25,
   "metadata": {},
   "outputs": [
    {
     "name": "stdout",
     "output_type": "stream",
     "text": [
      "0.04319312507139594\n",
      "0.009303181193193493\n",
      "0.02215793933394699\n",
      "0.06479638798230941\n",
      "0.1283117428707379\n",
      "0.08210776719814626\n"
     ]
    }
   ],
   "source": [
    "for n_sigma in range(3, 4):\n",
    "    idxx = np.where(df_results_total_agg.frequency.values >= n_sigma)\n",
    "    df = df_results_total_agg.iloc[idxx[0]]\n",
    "    df = df.reset_index()\n",
    "\n",
    "    tau_max = max((df.tau.values).astype(int))\n",
    "    n_var = len(var)\n",
    "    var_of_interest = 'CP_{}'.format(transect)\n",
    "    idx_var_of_interest = np.where(np.array(var) == var_of_interest)[0][0]\n",
    "\n",
    "    graph_mean = np.full((n_var, n_var, tau_max+1), '', dtype=object)\n",
    "    val_matrix_mean = np.zeros((n_var, n_var, tau_max+1))\n",
    "\n",
    "    set_of_interest = []\n",
    "\n",
    "    for idx, row in df.iterrows():\n",
    "        fvar, edge, svar = row['causal link'].split(' ')\n",
    "        i_fvar, i_svar = np.where(np.array(var) == fvar)[0][0], np.where(np.array(var) == svar)[0][0]\n",
    "        \n",
    "        if (fvar == var_of_interest and edge == '-->') or (svar == var_of_interest and edge == '<--'):\n",
    "            continue\n",
    " \n",
    "        if edge == '-->' or edge == '<--':\n",
    "            graph_mean[i_fvar, i_svar, int(row['tau'])] = edge\n",
    "            val_matrix_mean[i_fvar, i_svar, int(row['tau'])] = row['val_matrix']\n",
    "            val_matrix_mean[i_svar, i_fvar, int(row['tau'])] = row['val_matrix']\n",
    "\n",
    "            if (fvar == var_of_interest) or (svar == var_of_interest):\n",
    "                set_of_interest.append([i_fvar, int(row['tau']), i_svar])\n",
    "\n",
    "    tp.plot_graph(graph=graph_mean, val_matrix=val_matrix_mean, var_names=var, show_autodependency_lags=False)\n",
    "    plt.savefig('stability_graph_transect_{}_sigma_{}.png'.format(transect, n_sigma), dpi=300, bbox_inches='tight')\n",
    "    plt.show()\n",
    "\n",
    "    # Initialize dataframe object, specify variable names\n",
    "    med.fit_model(all_parents=toys.dag_to_links(graph_mean), tau_max=tau_max)\n",
    "    val_matrix_ce = med.get_val_matrix(symmetrize=True)\n",
    "    med.fit_model_bootstrap(boot_blocklength=1, seed=42, boot_samples=100)\n",
    "\n",
    "    size_plot = []\n",
    "    labels_plot = []\n",
    "\n",
    "    for set_ce in set_of_interest:\n",
    "        i_ce, tau_ce, j_ce = set_ce\n",
    "        \n",
    "        # Get Causal effect and 90% confidence interval\n",
    "        size_plot.append(abs(med.get_ce(i=i_ce, tau=-tau_ce,  j=j_ce)))\n",
    "        print(min(abs(med.get_bootstrap_of(function='get_ce', \n",
    "        function_args={'i':i_ce, 'tau':-tau_ce,  'j':j_ce}, conf_lev=0.90))))\n",
    "        labels_plot.append(var[i_ce]+str(tau_ce))\n",
    "        #idx = val_matrix[:, idx_var_of_interest, :].nonzero()\n",
    "\n",
    "    '''\n",
    "    plt.bar(['wave energy', 'sea level anomaly'], [val_matrix[:, 8, :][idx][0], val_matrix[:, 8, :][idx][1]], yerr=[0.10168095, 0.0815955], color=[colors[0], colors[1]], capsize=5)\n",
    "    plt.ylabel('Causal effect estimation')\n",
    "    plt.show()\n",
    "    '''\n",
    "    # Data for the chart\n",
    "    values = size_plot  # Sizes or proportions for each sector\n",
    "    categories = labels_plot  # Labels for each sector\n",
    "    colors = colors = list(mcolors.TABLEAU_COLORS.values())[:len(size_plot)]  # Colors for each sector\n",
    "\n",
    "    # Create a figure and axis\n",
    "    fig, ax = plt.subplots(subplot_kw={'projection': 'polar'})\n",
    "\n",
    "    # Convert values to radians\n",
    "    theta = np.linspace(0, 2 * np.pi, len(categories), endpoint=False)\n",
    "\n",
    "    # Plot the bars\n",
    "    bars = ax.bar(theta, values, width=0.4, color=colors, zorder=2)\n",
    "\n",
    "    # Set the axis limits\n",
    "    ax.set_ylim(0, max(values)+0.05)\n",
    "\n",
    "    # Set the angle of the labels\n",
    "    ax.set_xticks(theta)\n",
    "    ax.set_xticklabels(categories, fontdict={'fontsize': 15,\n",
    "    'fontweight': 'bold',\n",
    "    'verticalalignment': 'center',\n",
    "    'horizontalalignment': 'center',\n",
    "    'backgroundcolor': 'black',\n",
    "    'color': 'white',\n",
    "    'zorder': 3})\n",
    "\n",
    "    ax.spines['polar'].set_zorder(0)\n",
    "    # Set a title for the chart\n",
    "    ax.set_title('Causal effect estimation at transect {}'.format(transect), fontweight='bold', fontsize=15, pad=20)\n",
    "    # Display the chart\n",
    "    plt.savefig('causal_effect_estimation_transect_{}_sigma_{}.png'.format(transect, n_sigma), dpi=300, bbox_inches='tight')\n",
    "    plt.show()"
   ]
  },
  {
   "cell_type": "code",
   "execution_count": 393,
   "metadata": {},
   "outputs": [],
   "source": [
    "# Data for the chart\n",
    "values = size_plot  # Sizes or proportions for each sector\n",
    "categories = labels_plot  # Labels for each sector\n",
    "colors = colors = list(mcolors.TABLEAU_COLORS.values())[:len(size_plot)]  # Colors for each sector\n",
    "\n",
    "# Create a figure and axis\n",
    "fig, ax = plt.subplots(subplot_kw={'projection': 'polar'})\n",
    "\n",
    "# Convert values to radians\n",
    "theta = np.linspace(0, 2 * np.pi, len(categories), endpoint=False)\n",
    "\n",
    "# Plot the bars\n",
    "bars = ax.bar(theta, values, width=0.4, color=colors, zorder=2)\n",
    "\n",
    "ax.grid(True, zorder=16)\n",
    "\n",
    "ax.spines['polar'].set_zorder(0)\n",
    "\n",
    "# Set the axis limits\n",
    "ax.set_ylim(0, max(values)+0.05)\n",
    "\n",
    "# Set the angle of the labels\n",
    "ax.set_xticks(theta)\n",
    "ax.set_xticklabels(categories, fontdict={'fontsize': 15,\n",
    " 'fontweight': 'bold',\n",
    " 'verticalalignment': 'center',\n",
    " 'horizontalalignment': 'center',\n",
    " 'backgroundcolor': 'black',\n",
    " 'color': 'white',\n",
    " 'zorder': 14})\n",
    "\n",
    "# Set a title for the chart\n",
    "ax.set_title('Causal effect estimation at transect {}'.format(transect), fontweight='bold', fontsize=15, pad=20)\n",
    "# Display the chart\n",
    "plt.show()"
   ]
  },
  {
   "attachments": {},
   "cell_type": "markdown",
   "metadata": {},
   "source": [
    "# Transect variability"
   ]
  },
  {
   "cell_type": "code",
   "execution_count": null,
   "metadata": {},
   "outputs": [],
   "source": [
    "for transect in np.arange(10, 34):\n",
    "\n",
    "    var_names = ['wave_energy', 'sea_level_anomaly', 'mean_SST', 'mean_sea_level_pressure', 'total_precipitation', 'mean_2m_air_temperature', 'u_component_of_wind_10m', 'v_component_of_wind_10m', str(transect)]#, 'meiv2']#, '18', '36', '7', '27']\n",
    "    df_selected_variables = df_total[var_names]\n",
    "\n",
    "    var = ['WE', 'SLA', 'SST', 'MSLP', 'TP', 'AT', 'WU', 'WV', 'CP_{}'.format(str(transect))]\n",
    "\n",
    "    # Assuming you have a pandas DataFrame with a 'date' column and 'value' column\n",
    "    # where 'date' is the timestamp and 'value' is the time series values\n",
    "    # data = pd.DataFrame({'date': [...], 'value': [...]})\n",
    "    data = df_selected_variables.copy()\n",
    "\n",
    "    for idx, col in enumerate(data.columns):\n",
    "\n",
    "        # Perform seasonal decomposition\n",
    "        stl = STL(data[col], seasonal=13)  # seasonal period of 13 for monthly data\n",
    "        res = stl.fit()\n",
    "\n",
    "        # Remove trend and seasonality from the original time series\n",
    "        detrended = data[col] - res.trend - res.seasonal\n",
    "\n",
    "        # Plot the original, trend, and seasonally adjusted time series\n",
    "        #res.plot()\n",
    "\n",
    "        if idx == 0:\n",
    "            # Initialize a DataFrame with the detrended time series\n",
    "            df_detrended = pd.DataFrame({col:detrended})\n",
    "        else:\n",
    "            # Add the detrended time series to DataFrame\n",
    "            df_detrended = pd.concat([df_detrended, pd.DataFrame({col:detrended})], axis=1)\n",
    "        \n",
    "    data = df_detrended.values\n",
    "    N = np.shape(data)[1]\n",
    "    T = np.shape(data)[0]\n",
    "    datatime = np.linspace(2015, 2020-1./12., T)\n",
    "    dataframe = pp.DataFrame(data, var_names=var, datatime=datatime)\n",
    "\n",
    "    parcorr = ParCorr(significance='analytic')\n",
    "    pcmci = PCMCI(\n",
    "        dataframe=dataframe, \n",
    "        cond_ind_test=parcorr,\n",
    "        verbosity=1)\n",
    "\n",
    "    pcmci.verbosity = 1\n",
    "    pc_alpha = 0.05\n",
    "    tau_max = 13\n",
    "    results = pcmci.run_pcmciplus(tau_max=tau_max, pc_alpha=pc_alpha)\n",
    "\n",
    "    tp.plot_graph(\n",
    "        val_matrix=results['val_matrix'],\n",
    "        graph=results['graph'],\n",
    "        var_names=var,\n",
    "        link_colorbar_label='cross-MCI',\n",
    "        node_colorbar_label='auto-MCI',\n",
    "        show_autodependency_lags=False\n",
    "        ); plt.show()"
   ]
  },
  {
   "attachments": {},
   "cell_type": "markdown",
   "metadata": {},
   "source": [
    "# LPCMCI"
   ]
  },
  {
   "cell_type": "code",
   "execution_count": 28,
   "metadata": {},
   "outputs": [],
   "source": [
    "from tigramite.lpcmci import LPCMCI"
   ]
  },
  {
   "cell_type": "code",
   "execution_count": 29,
   "metadata": {},
   "outputs": [],
   "source": [
    "# Create a (conditional) independence test object\n",
    "# Here, the partial correlation test is used\n",
    "parcorr = ParCorr(significance='analytic')\n",
    "\n",
    "# Create a PCMCI object, passing the the dataframe and (conditional)\n",
    "# independence test object.\n",
    "pcmci = PCMCI(dataframe=dataframe, \n",
    "              cond_ind_test=parcorr,\n",
    "              verbosity=1)"
   ]
  },
  {
   "cell_type": "code",
   "execution_count": 178,
   "metadata": {},
   "outputs": [
    {
     "name": "stdout",
     "output_type": "stream",
     "text": [
      "\n",
      "##\n",
      "## Running Tigramite BivCI algorithm\n",
      "##\n",
      "\n",
      "Parameters:\n",
      "\n",
      "independence test = par_corr\n",
      "tau_min = 0\n",
      "tau_max = 20\n"
     ]
    }
   ],
   "source": [
    "# Run the `PCMCI.run_bivci` function\n",
    "correlations = pcmci.run_bivci(tau_max=24, val_only=True)['val_matrix']\n",
    "\n",
    "# Plot the results\n",
    "setup_args = {'var_names':var_names,\n",
    "              'figsize':(10, 6),\n",
    "              'x_base':5,\n",
    "              'y_base':.5}\n",
    "lag_func_matrix = tp.plot_lagfuncs(val_matrix=correlations, \n",
    "                                   setup_args=setup_args)"
   ]
  },
  {
   "cell_type": "code",
   "execution_count": null,
   "metadata": {},
   "outputs": [],
   "source": [
    "# Create a LPCMCI object, passing the dataframe and (conditional)\n",
    "# independence test objects.\n",
    "# parcorr = ParCorr(significance='analytic')\n",
    "lpcmci = LPCMCI(dataframe=dataframe, \n",
    "                cond_ind_test=parcorr,\n",
    "                verbosity=1)\n",
    "\n",
    "for i in range(1, 15):\n",
    "    # Define the analysis parameters.\n",
    "    tau_max = i\n",
    "    pc_alpha = 0.05\n",
    "\n",
    "    # Run LPCMCI\n",
    "    results = lpcmci.run_lpcmci(tau_max=tau_max,\n",
    "                                pc_alpha=pc_alpha)\n",
    "\n",
    "    # Plot the learned time series DPAG\n",
    "    tp.plot_graph(graph=results['graph'],\n",
    "                val_matrix=results['val_matrix'],\n",
    "                var_names=var_names)\n",
    "    plt.show()"
   ]
  },
  {
   "attachments": {},
   "cell_type": "markdown",
   "metadata": {},
   "source": [
    "# Other conditional independence test"
   ]
  },
  {
   "cell_type": "code",
   "execution_count": null,
   "metadata": {},
   "outputs": [],
   "source": [
    "from tigramite.independence_tests.cmiknn import CMIknn"
   ]
  },
  {
   "cell_type": "code",
   "execution_count": 187,
   "metadata": {},
   "outputs": [],
   "source": [
    "cmi_knn = CMIknn(significance='shuffle_test', knn=0.1, shuffle_neighbors=5, transform='ranks', sig_samples=200)\n",
    "pcmci_cmi_knn = PCMCI(\n",
    "    dataframe=dataframe, \n",
    "    cond_ind_test=cmi_knn,\n",
    "    verbosity=0)\n",
    "results = pcmci_cmi_knn.run_pcmci(tau_max=10, pc_alpha=0.05, alpha_level = 0.01)\n",
    "\n",
    "tp.plot_graph(\n",
    "    val_matrix=results['val_matrix'],\n",
    "    graph=results['graph'],\n",
    "    var_names=var_names,\n",
    "    link_colorbar_label='cross-MCI',\n",
    "    node_colorbar_label='auto-MCI',\n",
    "    vmin_edges=0.,\n",
    "    vmax_edges = 0.3,\n",
    "    edge_ticks=0.05,\n",
    "    cmap_edges='OrRd',\n",
    "    vmin_nodes=0,\n",
    "    vmax_nodes=.5,\n",
    "    node_ticks=.1,\n",
    "    cmap_nodes='OrRd',\n",
    "    ); plt.show()"
   ]
  },
  {
   "attachments": {},
   "cell_type": "markdown",
   "metadata": {},
   "source": [
    "# Causal effect estimation"
   ]
  },
  {
   "cell_type": "code",
   "execution_count": 273,
   "metadata": {},
   "outputs": [],
   "source": [
    "# Imports\n",
    "import numpy as np\n",
    "import matplotlib\n",
    "from matplotlib import pyplot as plt\n",
    "%matplotlib inline     \n",
    "## use `%matplotlib notebook` for interactive figures\n",
    "# plt.style.use('ggplot')\n",
    "import sklearn\n",
    "\n",
    "import tigramite\n",
    "from tigramite import data_processing as pp\n",
    "from tigramite.toymodels import structural_causal_processes as toys\n",
    "from tigramite import plotting as tp\n",
    "from tigramite.pcmci import PCMCI\n",
    "\n",
    "from tigramite.independence_tests.parcorr import ParCorr\n",
    "from tigramite.independence_tests.robust_parcorr import RobustParCorr\n",
    "from tigramite.independence_tests.gpdc import GPDC\n",
    "from tigramite.independence_tests.cmiknn import CMIknn\n",
    "from tigramite.independence_tests.cmisymb import CMIsymb\n",
    "\n",
    "from tigramite.models import LinearMediation, Prediction"
   ]
  },
  {
   "cell_type": "code",
   "execution_count": 79,
   "metadata": {},
   "outputs": [
    {
     "data": {
      "text/plain": [
       "array([[['', '', '', ..., '', '', ''],\n",
       "        ['', '', '', ..., '', '', ''],\n",
       "        ['<--', '', '', ..., '', '', ''],\n",
       "        ...,\n",
       "        ['', '', '', ..., '', '', ''],\n",
       "        ['', '', '', ..., '', '', ''],\n",
       "        ['', '', '', ..., '', '-->', '']],\n",
       "\n",
       "       [['', '', '', ..., '', '', ''],\n",
       "        ['', '', '', ..., '', '', '-->'],\n",
       "        ['', '', '', ..., '', '', ''],\n",
       "        ...,\n",
       "        ['', '', '', ..., '', '', ''],\n",
       "        ['', '', '', ..., '', '', ''],\n",
       "        ['', '', '', ..., '', '', '']],\n",
       "\n",
       "       [['-->', '', '', ..., '', '', ''],\n",
       "        ['', '', '', ..., '', '', ''],\n",
       "        ['', '', '', ..., '', '', ''],\n",
       "        ...,\n",
       "        ['', '', '', ..., '', '', ''],\n",
       "        ['', '', '', ..., '', '', ''],\n",
       "        ['', '', '', ..., '', '', '']],\n",
       "\n",
       "       ...,\n",
       "\n",
       "       [['', '', '', ..., '', '', ''],\n",
       "        ['', '', '', ..., '', '', ''],\n",
       "        ['', '', '', ..., '', '', ''],\n",
       "        ...,\n",
       "        ['', '', '', ..., '', '', ''],\n",
       "        ['', '', '', ..., '', '', ''],\n",
       "        ['', '', '', ..., '', '', '']],\n",
       "\n",
       "       [['', '', '', ..., '', '', ''],\n",
       "        ['', '', '', ..., '', '', ''],\n",
       "        ['', '', '', ..., '', '', ''],\n",
       "        ...,\n",
       "        ['', '', '', ..., '', '', ''],\n",
       "        ['', '', '', ..., '', '', ''],\n",
       "        ['', '', '', ..., '', '', '']],\n",
       "\n",
       "       [['', '', '', ..., '', '', ''],\n",
       "        ['', '', '', ..., '', '', ''],\n",
       "        ['', '', '', ..., '', '', ''],\n",
       "        ...,\n",
       "        ['', '', '', ..., '', '', ''],\n",
       "        ['', '', '', ..., '', '', ''],\n",
       "        ['', '', '', ..., '', '', '']]], dtype='<U3')"
      ]
     },
     "execution_count": 79,
     "metadata": {},
     "output_type": "execute_result"
    }
   ],
   "source": [
    "g = results['graph']\n",
    "g[np.where(g == 'o-o')] = ''\n",
    "g"
   ]
  },
  {
   "cell_type": "code",
   "execution_count": 80,
   "metadata": {},
   "outputs": [
    {
     "name": "stdout",
     "output_type": "stream",
     "text": [
      "{0: [(2, 0), (3, -8), (4, -11)], 1: [(1, -12), (2, -6)], 2: [(2, -9), (4, -8)], 3: [(2, -11), (3, -12)], 4: [(5, -12)], 5: [(4, 0)], 6: [], 7: [(6, -5)], 8: [(0, -11), (1, -3)]}\n"
     ]
    }
   ],
   "source": [
    "parents = toys.dag_to_links(g)\n",
    "print(parents)"
   ]
  },
  {
   "cell_type": "code",
   "execution_count": 83,
   "metadata": {},
   "outputs": [],
   "source": [
    "var_names = var\n",
    "    \n",
    "# Initialize dataframe object, specify variable names\n",
    "dataframe = pp.DataFrame(data, \n",
    "                         var_names=var_names)\n",
    "med = LinearMediation(dataframe=dataframe)\n",
    "med.fit_model(all_parents=toys.dag_to_links(g), tau_max=13)"
   ]
  },
  {
   "cell_type": "code",
   "execution_count": 84,
   "metadata": {},
   "outputs": [
    {
     "name": "stdout",
     "output_type": "stream",
     "text": [
      "[[[ 0.          0.          0.         ...  0.          0.\n",
      "    0.        ]\n",
      "  [ 0.          0.          0.         ...  0.          0.\n",
      "    0.        ]\n",
      "  [ 0.1635549   0.          0.         ...  0.          0.\n",
      "    0.        ]\n",
      "  ...\n",
      "  [ 0.          0.          0.         ...  0.          0.\n",
      "    0.        ]\n",
      "  [ 0.          0.          0.         ...  0.          0.\n",
      "    0.        ]\n",
      "  [ 0.          0.          0.         ...  0.39945801  0.\n",
      "    0.        ]]\n",
      "\n",
      " [[ 0.          0.          0.         ...  0.          0.\n",
      "    0.        ]\n",
      "  [ 0.          0.          0.         ...  0.         -0.59533273\n",
      "    0.        ]\n",
      "  [ 0.          0.          0.         ...  0.          0.\n",
      "    0.        ]\n",
      "  ...\n",
      "  [ 0.          0.          0.         ...  0.          0.\n",
      "    0.        ]\n",
      "  [ 0.          0.          0.         ...  0.          0.\n",
      "    0.        ]\n",
      "  [ 0.          0.          0.         ...  0.          0.\n",
      "    0.        ]]\n",
      "\n",
      " [[ 0.1635549   0.          0.         ...  0.          0.\n",
      "    0.        ]\n",
      "  [ 0.          0.          0.         ...  0.          0.\n",
      "    0.        ]\n",
      "  [ 0.          0.          0.         ...  0.          0.\n",
      "    0.        ]\n",
      "  ...\n",
      "  [ 0.          0.          0.         ...  0.          0.\n",
      "    0.        ]\n",
      "  [ 0.          0.          0.         ...  0.          0.\n",
      "    0.        ]\n",
      "  [ 0.          0.          0.         ...  0.          0.\n",
      "    0.        ]]\n",
      "\n",
      " ...\n",
      "\n",
      " [[ 0.          0.          0.         ...  0.          0.\n",
      "    0.        ]\n",
      "  [ 0.          0.          0.         ...  0.          0.\n",
      "    0.        ]\n",
      "  [ 0.          0.          0.         ...  0.          0.\n",
      "    0.        ]\n",
      "  ...\n",
      "  [ 0.          0.          0.         ...  0.          0.\n",
      "    0.        ]\n",
      "  [ 0.          0.          0.         ...  0.          0.\n",
      "    0.        ]\n",
      "  [ 0.          0.          0.         ...  0.          0.\n",
      "    0.        ]]\n",
      "\n",
      " [[ 0.          0.          0.         ...  0.          0.\n",
      "    0.        ]\n",
      "  [ 0.          0.          0.         ...  0.          0.\n",
      "    0.        ]\n",
      "  [ 0.          0.          0.         ...  0.          0.\n",
      "    0.        ]\n",
      "  ...\n",
      "  [ 0.          0.          0.         ...  0.          0.\n",
      "    0.        ]\n",
      "  [ 0.          0.          0.         ...  0.          0.\n",
      "    0.        ]\n",
      "  [ 0.          0.          0.         ...  0.          0.\n",
      "    0.        ]]\n",
      "\n",
      " [[ 0.          0.          0.         ...  0.          0.\n",
      "    0.        ]\n",
      "  [ 0.          0.          0.         ...  0.          0.\n",
      "    0.        ]\n",
      "  [ 0.          0.          0.         ...  0.          0.\n",
      "    0.        ]\n",
      "  ...\n",
      "  [ 0.          0.          0.         ...  0.          0.\n",
      "    0.        ]\n",
      "  [ 0.          0.          0.         ...  0.          0.\n",
      "    0.        ]\n",
      "  [ 0.          0.          0.         ...  0.          0.\n",
      "    0.        ]]]\n"
     ]
    }
   ],
   "source": [
    "val_matrix = med.get_val_matrix(symmetrize=True)\n",
    "print(val_matrix)"
   ]
  },
  {
   "cell_type": "code",
   "execution_count": 85,
   "metadata": {},
   "outputs": [
    {
     "data": {
      "image/png": "[encoded data removed]",
      "text/plain": [
       "<Figure size 640x480 with 1 Axes>"
      ]
     },
     "metadata": {},
     "output_type": "display_data"
    }
   ],
   "source": [
    "graph = toys.links_to_graph(parents)\n",
    "\n",
    "tp.plot_graph(graph=graph, val_matrix=val_matrix, var_names=var_names); plt.show()"
   ]
  },
  {
   "cell_type": "code",
   "execution_count": 86,
   "metadata": {},
   "outputs": [
    {
     "data": {
      "text/plain": [
       "<tigramite.models.LinearMediation at 0x2840b1fe4a0>"
      ]
     },
     "execution_count": 86,
     "metadata": {},
     "output_type": "execute_result"
    }
   ],
   "source": [
    "med.fit_model_bootstrap(boot_blocklength=1, seed=42, boot_samples=100)"
   ]
  },
  {
   "cell_type": "code",
   "execution_count": 87,
   "metadata": {},
   "outputs": [
    {
     "name": "stdout",
     "output_type": "stream",
     "text": [
      "0.30698485223864025\n",
      "[0.0815955  0.46767618]\n"
     ]
    }
   ],
   "source": [
    "# Get Causal effect and 90% confidence interval\n",
    "print(med.get_ce(i=1, tau=-3,  j=8))\n",
    "print(med.get_bootstrap_of(function='get_ce', \n",
    "    function_args={'i':1, 'tau':-3,  'j':8}, conf_lev=0.90))"
   ]
  },
  {
   "cell_type": "code",
   "execution_count": 89,
   "metadata": {},
   "outputs": [],
   "source": [
    "idx = val_matrix[:, 8, :].nonzero()"
   ]
  },
  {
   "cell_type": "code",
   "execution_count": 106,
   "metadata": {},
   "outputs": [
    {
     "data": {
      "text/plain": [
       "Text(0, 0.5, 'Causal effect estimation')"
      ]
     },
     "execution_count": 106,
     "metadata": {},
     "output_type": "execute_result"
    },
    {
     "data": {
      "image/png": "[encoded data removed]",
      "text/plain": [
       "<Figure size 640x480 with 1 Axes>"
      ]
     },
     "metadata": {},
     "output_type": "display_data"
    }
   ],
   "source": [
    "import matplotlib\n",
    "matplotlib.rcParams['mathtext.fontset'] = 'custom'\n",
    "matplotlib.rcParams['mathtext.rm'] = 'Bitstream Vera Sans'\n",
    "matplotlib.rcParams['mathtext.it'] = 'Bitstream Vera Sans:italic'\n",
    "matplotlib.rcParams['mathtext.bf'] = 'Bitstream Vera Sans:bold'\n",
    "\n",
    "plt.bar(['wave energy', 'sea level anomaly'], [val_matrix[:, 8, :][idx][0], val_matrix[:, 8, :][idx][1]], yerr=[0.10168095, 0.0815955], color=[colors[0], colors[1]], capsize=5)\n",
    "plt.ylabel('Causal effect estimation')"
   ]
  },
  {
   "cell_type": "code",
   "execution_count": 92,
   "metadata": {},
   "outputs": [
    {
     "name": "stdout",
     "output_type": "stream",
     "text": [
      "Causal effect (0, -2) --> 2:  0.3994580147844202\n"
     ]
    }
   ],
   "source": [
    "print (\"Causal effect (0, -2) --> 2: \", med.get_ce(i=0, tau=-11, j=8))"
   ]
  }
 ],
 "metadata": {
  "kernelspec": {
   "display_name": "islands-db",
   "language": "python",
   "name": "python3"
  },
  "language_info": {
   "codemirror_mode": {
    "name": "ipython",
    "version": 3
   },
   "file_extension": ".py",
   "mimetype": "text/x-python",
   "name": "python",
   "nbconvert_exporter": "python",
   "pygments_lexer": "ipython3",
   "version": "3.10.10"
  },
  "orig_nbformat": 4
 },
 "nbformat": 4,
 "nbformat_minor": 2
}
