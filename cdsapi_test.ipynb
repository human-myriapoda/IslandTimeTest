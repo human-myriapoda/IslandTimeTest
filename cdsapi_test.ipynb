{
 "cells": [
  {
   "cell_type": "code",
   "execution_count": 1,
   "metadata": {},
   "outputs": [],
   "source": [
    "import xarray as xr\n",
    "import numpy as np\n",
    "import matplotlib.pyplot as plt\n",
    "import cdsapi\n",
    "from mpetools import IslandTime\n",
    "import pandas as pd\n",
    "import datetime"
   ]
  },
  {
   "cell_type": "code",
   "execution_count": 2,
   "metadata": {},
   "outputs": [
    {
     "name": "stderr",
     "output_type": "stream",
     "text": [
      "2023-09-26 10:18:58,112 INFO Welcome to the CDS\n",
      "2023-09-26 10:18:58,112 INFO Sending request to https://cds.climate.copernicus.eu/api/v2/resources/reanalysis-era5-land-monthly-means\n",
      "2023-09-26 10:18:58,729 INFO Request is completed\n",
      "2023-09-26 10:18:58,730 INFO Downloading https://download-0013-clone.copernicus-climate.eu/cache-compute-0013/cache/data1/adaptor.mars.internal-1695677232.6110673-20012-18-6ba50b98-0718-493b-9610-cf47a58e848b.zip to download.netcdf.zip (10.1G)\n",
      "2023-09-26 10:38:57,758 INFO Download rate 8.6M/s     \n"
     ]
    },
    {
     "data": {
      "text/plain": [
       "Result(content_length=10807473857,content_type=application/zip,location=https://download-0013-clone.copernicus-climate.eu/cache-compute-0013/cache/data1/adaptor.mars.internal-1695677232.6110673-20012-18-6ba50b98-0718-493b-9610-cf47a58e848b.zip)"
      ]
     },
     "execution_count": 2,
     "metadata": {},
     "output_type": "execute_result"
    }
   ],
   "source": [
    "cds = cdsapi.Client(url=\"https://cds.climate.copernicus.eu/api/v2\", key=\"200721:d13b27b3-32f8-4315-a9c0-e65dc3eb6fdd\")\n",
    "\n",
    "cds.retrieve(\n",
    "    'reanalysis-era5-land-monthly-means',\n",
    "    {\n",
    "        'product_type': 'monthly_averaged_reanalysis',\n",
    "        'variable': [\n",
    "            '10m_u_component_of_wind', '10m_v_component_of_wind', '2m_dewpoint_temperature',\n",
    "            '2m_temperature', 'evaporation_from_bare_soil', 'evaporation_from_open_water_surfaces_excluding_oceans',\n",
    "            'evaporation_from_the_top_of_canopy', 'evaporation_from_vegetation_transpiration', 'leaf_area_index_high_vegetation',\n",
    "            'leaf_area_index_low_vegetation', 'potential_evaporation', 'runoff',\n",
    "            'skin_temperature', 'snow_evaporation', 'soil_temperature_level_1',\n",
    "            'soil_temperature_level_2', 'soil_temperature_level_3', 'soil_temperature_level_4',\n",
    "            'sub_surface_runoff', 'surface_pressure', 'surface_runoff',\n",
    "            'total_evaporation', 'total_precipitation',\n",
    "        ],\n",
    "        'year': [\n",
    "            '2010', '2011', '2012',\n",
    "            '2013', '2014', '2015',\n",
    "            '2016', '2017', '2018',\n",
    "            '2019', '2020', '2021',\n",
    "            '2022', '2023',\n",
    "        ],\n",
    "        'month': [\n",
    "            '01', '02', '03',\n",
    "            '04', '05', '06',\n",
    "            '07', '08', '09',\n",
    "            '10', '11', '12',\n",
    "        ],\n",
    "        'time': '00:00',\n",
    "        'format': 'netcdf.zip',\n",
    "    },\n",
    "    'download.netcdf.zip')"
   ]
  },
  {
   "cell_type": "code",
   "execution_count": 5,
   "metadata": {},
   "outputs": [
    {
     "name": "stdout",
     "output_type": "stream",
     "text": [
      "\n",
      "-------------------------------------------------------------------\n",
      "Retrieving all information available for the island.\n",
      "Island: Dhiyadhoo, Maldives\n",
      "-------------------------------------------------------------------\n",
      "\n",
      "~ The following information is available: ~\n",
      "\n",
      "general_info\n",
      "               island\n",
      "               country\n",
      "               part of\n",
      "               located in the administrative territorial entity\n",
      "               located in or next to body of water\n",
      "               atoll\n",
      "spatial_reference\n",
      "               latitude\n",
      "               longitude\n",
      "               polygon\n",
      "               polygon_OSM\n",
      "               transects_ECU_characteristics\n",
      "               reference_shoreline\n",
      "               transects\n",
      "image_collection_dict\n",
      "               description\n",
      "               S2\n",
      "               L7\n",
      "               L8\n",
      "               L9\n",
      "timeseries_vegetation\n",
      "               description\n",
      "               description_timeseries\n",
      "               source\n",
      "               mask_total_vegetation_S2\n",
      "               mask_coastal_vegetation_S2\n",
      "               mask_transects_vegetation_S2\n",
      "               mask_total_vegetation_L7\n",
      "               mask_coastal_vegetation_L7\n",
      "               mask_transects_vegetation_L7\n",
      "               mask_total_vegetation_L8\n",
      "               mask_coastal_vegetation_L8\n",
      "               mask_transects_vegetation_L8\n",
      "               mask_total_vegetation_L9\n",
      "               mask_coastal_vegetation_L9\n",
      "               mask_transects_vegetation_L9\n",
      "duvat_magnan_2019\n",
      "               atoll\n",
      "               island number\n",
      "               satellite image date (d/m/y) 2004-2006\n",
      "               satellite image date (d/m/y) 2014-2016\n",
      "               change in island land area (data for inhabited islands only)(in ha) 2014-2016\n",
      "               human footprint on island land area 2004-2006 human footprint <1/3 of island land area\n",
      "               human footprint on island land area 2014-2016 non-exploited islands\n",
      "               coastal modifications 2004-2006 shoreline type entirely natural\n",
      "               coastal modifications 2014-2016 shoreline type entirely natural\n",
      "               human pressure on island reef 2004-2006 boat channel(s) across reef flat\n",
      "               human pressure on island reef 2014-2016 persistence of boat channel(s) across reef flat\n",
      "               additionnal information\n",
      "timeseries_CRW\n",
      "               description\n",
      "               description_timeseries\n",
      "               source\n",
      "               timeseries\n",
      "timeseries_nighttime_light\n",
      "               description\n",
      "               description_timeseries\n",
      "               source\n",
      "               timeseries\n",
      "timeseries_disasters\n",
      "               description\n",
      "               description_timeseries\n",
      "               source\n",
      "               database\n",
      "               timeseries\n",
      "               confounders\n",
      "timeseries_WorldBank\n",
      "               description\n",
      "               description_timeseries\n",
      "               source\n",
      "               timeseries\n",
      "timeseries_WHO\n",
      "               description\n",
      "               description_timeseries\n",
      "               source\n",
      "               timeseries\n",
      "timeseries_wave_energy\n",
      "               description\n",
      "               description_timeseries\n",
      "               source\n",
      "               units\n",
      "               timeseries\n",
      "timeseries_sea_level_anomaly\n",
      "               description\n",
      "               description_timeseries\n",
      "               source\n",
      "               units\n",
      "               timeseries\n",
      "timeseries_PMLV2\n",
      "               description\n",
      "               description_timeseries\n",
      "               source\n",
      "               units\n",
      "timeseries_ERA5\n",
      "               description\n",
      "               description_timeseries\n",
      "               source\n",
      "               units\n",
      "               timeseries\n",
      "timeseries_PSMSL\n",
      "               description\n",
      "               description_timeseries\n",
      "               source\n",
      "               stations\n",
      "               timeseries\n",
      "timeseries_PSLGM\n",
      "               description\n",
      "               description_timeseries\n",
      "               source\n",
      "timeseries_coastsat\n",
      "               description\n",
      "               description_timeseries\n",
      "               source\n",
      "               inputs\n",
      "               settings\n",
      "               timeseries\n",
      "characteristics_ECU\n",
      "               description\n",
      "               source\n",
      "               transects_characteristics_ECU\n"
     ]
    }
   ],
   "source": [
    "island_info = IslandTime.retrieve_island_info('Dhiyadhoo', 'Maldives')"
   ]
  },
  {
   "cell_type": "code",
   "execution_count": 6,
   "metadata": {},
   "outputs": [
    {
     "data": {
      "text/plain": [
       "<Axes: xlabel='datetime'>"
      ]
     },
     "execution_count": 6,
     "metadata": {},
     "output_type": "execute_result"
    }
   ],
   "source": [
    "island_info['timeseries_ERA5']['timeseries']['mean_2m_air_temperature'].plot()\n"
   ]
  },
  {
   "cell_type": "code",
   "execution_count": 7,
   "metadata": {},
   "outputs": [],
   "source": [
    "polygon = island_info['spatial_reference']['polygon'].getInfo()['coordinates'][0]\n",
    "area = [max([polygon[0][1], polygon[2][1]]), min([polygon[0][0], polygon[2][0]])+180, min([polygon[0][1], polygon[2][1]]), max([polygon[0][0], polygon[2][0]])+180]"
   ]
  },
  {
   "cell_type": "code",
   "execution_count": 8,
   "metadata": {},
   "outputs": [
    {
     "name": "stderr",
     "output_type": "stream",
     "text": [
      "2023-09-25 20:25:45,986 INFO Welcome to the CDS\n",
      "2023-09-25 20:25:45,987 INFO Sending request to https://cds.climate.copernicus.eu/api/v2/resources/reanalysis-era5-single-levels\n",
      "2023-09-25 20:25:46,052 INFO Request is queued\n",
      "2023-09-25 20:25:47,091 INFO Request is running\n",
      "2023-09-25 20:26:18,486 INFO Request is completed\n",
      "2023-09-25 20:26:18,486 INFO Downloading https://download-0015-clone.copernicus-climate.eu/cache-compute-0015/cache/data3/adaptor.mars.internal-1695669966.299231-19784-11-c4702648-70ef-448f-a653-1418634df80d.nc to era5_daily_2m_temperature_2017.nc (3.2K)\n",
      "2023-09-25 20:26:19,110 INFO Download rate 5.1K/s\n",
      "2023-09-25 20:26:19,256 INFO Welcome to the CDS\n",
      "2023-09-25 20:26:19,256 INFO Sending request to https://cds.climate.copernicus.eu/api/v2/resources/reanalysis-era5-single-levels\n",
      "2023-09-25 20:26:19,299 INFO Request is queued\n",
      "2023-09-25 20:26:20,337 INFO Request is running\n",
      "2023-09-25 20:26:51,729 INFO Request is completed\n",
      "2023-09-25 20:26:51,730 INFO Downloading https://download-0008-clone.copernicus-climate.eu/cache-compute-0008/cache/data5/adaptor.mars.internal-1695670001.9202337-15588-1-9e9bad19-5df1-4a43-9dab-4dacc85ec24a.nc to era5_daily_2m_temperature_2018.nc (3.2K)\n",
      "2023-09-25 20:26:52,221 INFO Download rate 6.5K/s\n",
      "2023-09-25 20:26:52,303 INFO Welcome to the CDS\n",
      "2023-09-25 20:26:52,304 INFO Sending request to https://cds.climate.copernicus.eu/api/v2/resources/reanalysis-era5-single-levels\n",
      "2023-09-25 20:26:52,394 INFO Request is queued\n",
      "2023-09-25 20:26:54,969 INFO Request is running\n",
      "2023-09-25 20:27:24,828 INFO Request is completed\n",
      "2023-09-25 20:27:24,830 INFO Downloading https://download-0021.copernicus-climate.eu/cache-compute-0021/cache/data9/adaptor.mars.internal-1695670040.2950687-11611-10-e0aeca50-1d13-4a29-8430-a2f3cac72074.nc to era5_daily_2m_temperature_2019.nc (3.2K)\n",
      "2023-09-25 20:27:25,642 INFO Download rate 3.9K/s\n"
     ]
    },
    {
     "name": "stdout",
     "output_type": "stream",
     "text": [
      "<xarray.Dataset>\n",
      "Dimensions:    (longitude: 1, latitude: 1, time: 1095)\n",
      "Coordinates:\n",
      "  * longitude  (longitude) float32 253.5\n",
      "  * latitude   (latitude) float32 0.468\n",
      "  * time       (time) datetime64[ns] 2017-01-01T12:00:00 ... 2019-12-31T12:00:00\n",
      "Data variables:\n",
      "    t2m        (time, latitude, longitude) float32 295.8 295.6 ... 296.4 296.4\n",
      "Attributes:\n",
      "    Conventions:  CF-1.6\n",
      "    history:      2023-09-25 19:26:07 GMT by grib_to_netcdf-2.25.1: /opt/ecmw...\n"
     ]
    }
   ],
   "source": [
    "import cdsapi\n",
    "import xarray as xr\n",
    "import numpy as np\n",
    "import calendar\n",
    "\n",
    "# Define the ERA5 data request parameters for daily data\n",
    "start_year = 2017\n",
    "end_year = 2019\n",
    "variables = ['2m_temperature']\n",
    "\n",
    "# Create an empty list to store the daily data\n",
    "daily_data = []\n",
    "\n",
    "cds = cdsapi.Client(url=\"https://cds.climate.copernicus.eu/api/v2\", key=\"200721:d13b27b3-32f8-4315-a9c0-e65dc3eb6fdd\")\n",
    "\n",
    "# Loop through each year and retrieve daily data\n",
    "for year in range(start_year, end_year + 1):\n",
    "    for variable in variables:\n",
    "        era5_request_daily = {\n",
    "            'product_type': 'reanalysis',\n",
    "            'variable': variable,\n",
    "            'year': str(year),\n",
    "            'month': ['01', '02', '03', '04', '05', '06', '07', '08', '09', '10', '11', '12'],\n",
    "            'day': ['01', '02', '03', '04', '05', '06', '07', '08', '09', '10',\n",
    "                    '11', '12', '13', '14', '15', '16', '17', '18', '19', '20',\n",
    "                    '21', '22', '23', '24', '25', '26', '27', '28', '29', '30', '31'],\n",
    "            'area': area,  # North, West, South, East\n",
    "            'format': 'netcdf'\n",
    "        }\n",
    "\n",
    "        # Request daily ERA5 data\n",
    "        file_name = f'era5_daily_{variable}_{year}.nc'\n",
    "        cds.retrieve('reanalysis-era5-single-levels', era5_request_daily, file_name)\n",
    "\n",
    "        # Load the data into an xarray dataset\n",
    "        data_daily = xr.open_dataset(file_name)\n",
    "\n",
    "        # Append to the daily data list\n",
    "        daily_data.append(data_daily)\n",
    "\n",
    "# Concatenate the daily data along the time dimension\n",
    "combined_data = xr.concat(daily_data, dim='time')\n",
    "\n",
    "# Print the combined dataset to view the data structure\n",
    "print(combined_data)\n",
    "\n",
    "# Save the combined data to a new NetCDF file\n",
    "combined_data.to_netcdf('era5_daily_combined_temperature.nc')\n",
    "\n"
   ]
  },
  {
   "cell_type": "code",
   "execution_count": 9,
   "metadata": {},
   "outputs": [],
   "source": [
    "# Load the combined NetCDF file\n",
    "file_path = 'era5_daily_combined_temperature.nc'\n",
    "combined_data = xr.open_dataset(file_path)\n",
    "\n",
    "# Extract the temperature data (assuming 't2m' is the variable for 2m temperature)\n",
    "temperature_data = combined_data['t2m']\n",
    "\n",
    "# Extract the time coordinates\n",
    "time = combined_data['time']\n",
    "\n",
    "# Convert time to a more human-readable format (e.g., as pandas datetime)\n",
    "time_pd = pd.to_datetime(time.values)"
   ]
  },
  {
   "cell_type": "code",
   "execution_count": 13,
   "metadata": {},
   "outputs": [
    {
     "data": {
      "text/plain": [
       "[<matplotlib.lines.Line2D at 0x24f7b387f10>]"
      ]
     },
     "execution_count": 13,
     "metadata": {},
     "output_type": "execute_result"
    }
   ],
   "source": [
    "plt.plot(time_pd, temperature_data[:, 0, 0], label='Daily Temperature')"
   ]
  },
  {
   "cell_type": "code",
   "execution_count": 67,
   "metadata": {},
   "outputs": [
    {
     "data": {
      "text/plain": [
       "[<matplotlib.lines.Line2D at 0x2cd1357e3d0>]"
      ]
     },
     "execution_count": 67,
     "metadata": {},
     "output_type": "execute_result"
    }
   ],
   "source": [
    "plt.plot(df_varr.index, monthly_averages.variables['t2m'][:].values.flatten(), color='red')"
   ]
  },
  {
   "cell_type": "code",
   "execution_count": 12,
   "metadata": {},
   "outputs": [
    {
     "data": {
      "text/plain": [
       "<Axes: xlabel='datetime'>"
      ]
     },
     "execution_count": 12,
     "metadata": {},
     "output_type": "execute_result"
    }
   ],
   "source": [
    "varr = island_info['timeseries_ERA5']['timeseries']['mean_2m_air_temperature']\n",
    "df_varr = varr[(varr.index >= datetime.datetime(year=2017, month=1, day=1)) & (varr.index <= datetime.datetime(year=2019, month=1, day=1))]\n",
    "df_varr.plot()"
   ]
  },
  {
   "cell_type": "code",
   "execution_count": null,
   "metadata": {},
   "outputs": [],
   "source": []
  }
 ],
 "metadata": {
  "kernelspec": {
   "display_name": "coastsatn",
   "language": "python",
   "name": "python3"
  },
  "language_info": {
   "codemirror_mode": {
    "name": "ipython",
    "version": 3
   },
   "file_extension": ".py",
   "mimetype": "text/x-python",
   "name": "python",
   "nbconvert_exporter": "python",
   "pygments_lexer": "ipython3",
   "version": "3.8.16"
  },
  "orig_nbformat": 4
 },
 "nbformat": 4,
 "nbformat_minor": 2
}
